{
  "nbformat": 4,
  "nbformat_minor": 0,
  "metadata": {
    "accelerator": "GPU",
    "colab": {
      "name": "Model-AE-Yac-NoUV.ipynb",
      "provenance": [],
      "collapsed_sections": []
    },
    "kernelspec": {
      "display_name": "Python 3",
      "name": "python3"
    },
    "language_info": {
      "name": "python"
    }
  },
  "cells": [
    {
      "cell_type": "code",
      "metadata": {
        "colab": {
          "base_uri": "https://localhost:8080/",
          "height": 86
        },
        "id": "rnQgAsq16OVF",
        "outputId": "d8ddd6cb-fdcb-4af8-a698-ee92ed7c76ae"
      },
      "source": [
        "# Mount Google Drive\n",
        "from google.colab import drive # import drive from google colab\n",
        " \n",
        "ROOT = \"/content/drive\"     # default location for the drive\n",
        "print(ROOT)                 # print content of ROOT (Optional)\n",
        " \n",
        "drive.mount(ROOT)           # we mount the google drive at /content/drive\n",
        "%cd \"/content/drive/My Drive/PFE\"\n",
        "%pwd"
      ],
      "execution_count": 1,
      "outputs": [
        {
          "output_type": "stream",
          "text": [
            "/content/drive\n",
            "Mounted at /content/drive\n",
            "/content/drive/My Drive/PFE\n"
          ],
          "name": "stdout"
        },
        {
          "output_type": "execute_result",
          "data": {
            "application/vnd.google.colaboratory.intrinsic+json": {
              "type": "string"
            },
            "text/plain": [
              "'/content/drive/My Drive/PFE'"
            ]
          },
          "metadata": {
            "tags": []
          },
          "execution_count": 1
        }
      ]
    },
    {
      "cell_type": "code",
      "metadata": {
        "id": "y-i81AC3QnK-"
      },
      "source": [
        "!apt install octave\n",
        "!apt install liboctave-dev  # development files\n",
        "!pip install oct2py"
      ],
      "execution_count": null,
      "outputs": []
    },
    {
      "cell_type": "code",
      "metadata": {
        "id": "pPN7wDYbQhRx"
      },
      "source": [
        "\n",
        "\n",
        "from oct2py import Oct2Py\n",
        "oc = Oct2Py()\n",
        "script = '''\n",
        "  function [SDR,SIR,SAR,perm]=bss_eval_sources(se,s)\n",
        "%%% Errors %%%\n",
        "if nargin<2, error('Not enough input arguments.'); end\n",
        "[nsrc,nsampl]=size(se);\n",
        "[nsrc2,nsampl2]=size(s);\n",
        "if nsrc2~=nsrc, error('The number of estimated sources and reference sources must be equal.'); end\n",
        "if nsampl2~=nsampl, error('The estimated sources and reference sources must have the same duration.'); end\n",
        "\n",
        "%%% Performance criteria %%%\n",
        "% Computation of the criteria for all possible pair matches\n",
        "SDR=zeros(nsrc,nsrc);\n",
        "SIR=zeros(nsrc,nsrc);\n",
        "SAR=zeros(nsrc,nsrc);\n",
        "for jest=1:nsrc,\n",
        "    for jtrue=1:nsrc,\n",
        "        [s_true,e_spat,e_interf,e_artif]=bss_decomp_mtifilt(se(jest,:),s,jtrue,512);\n",
        "        [SDR(jest,jtrue),SIR(jest,jtrue),SAR(jest,jtrue)]=bss_source_crit(s_true,e_spat,e_interf,e_artif);\n",
        "    end\n",
        "end\n",
        "% Selection of the best ordering\n",
        "perm=perms(1:nsrc);\n",
        "nperm=size(perm,1);\n",
        "meanSIR=zeros(nperm,1);\n",
        "for p=1:nperm,\n",
        "    meanSIR(p)=mean(SIR((0:nsrc-1)*nsrc+perm(p,:)));\n",
        "end\n",
        "[meanSIR,popt]=max(meanSIR);\n",
        "perm=perm(popt,:).';\n",
        "SDR=SDR((0:nsrc-1).'*nsrc+perm);\n",
        "SIR=SIR((0:nsrc-1).'*nsrc+perm);\n",
        "SAR=SAR((0:nsrc-1).'*nsrc+perm);\n",
        "\n",
        "return;\n",
        "\n",
        "\n",
        "\n",
        "function [s_true,e_spat,e_interf,e_artif]=bss_decomp_mtifilt(se,s,j,flen)\n",
        "\n",
        "if nargin<4, error('Not enough input arguments.'); end\n",
        "[nchan2,nsampl2]=size(se);\n",
        "[nsrc,nsampl,nchan]=size(s);\n",
        "if nchan2~=nchan, error('The number of channels of the true source images and the estimated source image must be equal.'); end\n",
        "if nsampl2~=nsampl, error('The duration of the true source images and the estimated source image must be equal.'); end\n",
        "\n",
        "%%% Decomposition %%%\n",
        "% True source image\n",
        "s_true=[reshape(s(j,:,:),nsampl,nchan).',zeros(nchan,flen-1)];\n",
        "% Spatial (or filtering) distortion\n",
        "e_spat=project(se,s(j,:,:),flen)-s_true;\n",
        "% Interference\n",
        "e_interf=project(se,s,flen)-s_true-e_spat;\n",
        "% Artifacts\n",
        "e_artif=[se,zeros(nchan,flen-1)]-s_true-e_spat-e_interf;\n",
        "\n",
        "return;\n",
        "\n",
        "\n",
        "\n",
        "function sproj=project(se,s,flen)\n",
        "\n",
        "% SPROJ Least-squares projection of each channel of se on the subspace\n",
        "% spanned by delayed versions of the channels of s, with delays between 0\n",
        "% and flen-1\n",
        "\n",
        "[nsrc,nsampl,nchan]=size(s);\n",
        "s=reshape(permute(s,[3 1 2]),nchan*nsrc,nsampl);\n",
        "\n",
        "%%% Computing coefficients of least squares problem via FFT %%%\n",
        "% Zero padding and FFT of input data\n",
        "s=[s,zeros(nchan*nsrc,flen-1)];\n",
        "se=[se,zeros(nchan,flen-1)];\n",
        "fftlen=2^nextpow2(nsampl+flen-1);\n",
        "sf=fft(s,fftlen,2);\n",
        "sef=fft(se,fftlen,2);\n",
        "% Inner products between delayed versions of s\n",
        "G=zeros(nchan*nsrc*flen);\n",
        "for k1=0:nchan*nsrc-1,\n",
        "    for k2=0:k1,\n",
        "        ssf=sf(k1+1,:).*conj(sf(k2+1,:));\n",
        "        ssf=real(ifft(ssf));\n",
        "        ss=toeplitz(ssf([1 fftlen:-1:fftlen-flen+2]),ssf(1:flen));\n",
        "        G(k1*flen+1:k1*flen+flen,k2*flen+1:k2*flen+flen)=ss;\n",
        "        G(k2*flen+1:k2*flen+flen,k1*flen+1:k1*flen+flen)=ss.';\n",
        "    end\n",
        "end\n",
        "% Inner products between se and delayed versions of s\n",
        "D=zeros(nchan*nsrc*flen,nchan);\n",
        "for k=0:nchan*nsrc-1,\n",
        "    for i=1:nchan,\n",
        "        ssef=sf(k+1,:).*conj(sef(i,:));\n",
        "        ssef=real(ifft(ssef,[],2));\n",
        "        D(k*flen+1:k*flen+flen,i)=ssef(:,[1 fftlen:-1:fftlen-flen+2]).';\n",
        "    end\n",
        "end\n",
        "\n",
        "%%% Computing projection %%%\n",
        "% Distortion filters\n",
        "C=G\\D;\n",
        "C=reshape(C,flen,nchan*nsrc,nchan);\n",
        "% Filtering\n",
        "sproj=zeros(nchan,nsampl+flen-1);\n",
        "for k=1:nchan*nsrc,\n",
        "    for i=1:nchan,\n",
        "        sproj(i,:)=sproj(i,:)+fftfilt(C(:,k,i).',s(k,:));\n",
        "    end\n",
        "end\n",
        "\n",
        "return;\n",
        "\n",
        "\n",
        "\n",
        "function [SDR,SIR,SAR]=bss_source_crit(s_true,e_spat,e_interf,e_artif)\n",
        "\n",
        "\n",
        "if nargin<4, error('Not enough input arguments.'); end\n",
        "[nchant,nsamplt]=size(s_true);\n",
        "[nchans,nsampls]=size(e_spat);\n",
        "[nchani,nsampli]=size(e_interf);\n",
        "[nchana,nsampla]=size(e_artif);\n",
        "if ~((nchant==nchans)&&(nchant==nchani)&&(nchant==nchana)), error('All the components must have the same number of channels.'); end\n",
        "if ~((nsamplt==nsampls)&&(nsamplt==nsampli)&&(nsamplt==nsampla)), error('All the components must have the same duration.'); end\n",
        "\n",
        "%%% Energy ratios %%%\n",
        "s_filt=s_true+e_spat;\n",
        "% SDR\n",
        "SDR=10*log10(sum(sum(s_filt.^2))/sum(sum((e_interf+e_artif).^2)))\n",
        "% SIR\n",
        "SIR=10*log10(sum(sum(s_filt.^2))/sum(sum(e_interf.^2)))\n",
        "% SA\n",
        "SAR=10*log10(sum(sum((s_filt+e_interf).^2))/sum(sum(e_artif.^2)))\n",
        "return;\n",
        "\n",
        "         '''\n",
        "\n",
        "with open(\"myScript.m\",\"w+\") as f:\n",
        "    f.write(script)\n"
      ],
      "execution_count": 4,
      "outputs": []
    },
    {
      "cell_type": "code",
      "metadata": {
        "id": "CwzJP84TJJN0"
      },
      "source": [
        "import torch\n",
        "import numpy as np\n",
        "from scipy.io.wavfile import read, write\n",
        "from scipy import signal\n",
        "from scipy.signal import butter, lfilter, freqz\n",
        "import matplotlib.pyplot as plt\n",
        "import seaborn as sns\n",
        "\n",
        "\n",
        "from Model import Net,Netsmall,AEModel\n",
        "from boltzman_machine import RBM\n",
        "from helpers import Reconstruct, Viz_Y\n",
        "\n",
        "\n",
        "from torch.optim import LBFGS, Adam,SGD\n",
        "from torch import nn\n",
        "from sklearn.decomposition import NMF\n",
        "from sklearn.preprocessing import MinMaxScaler\n",
        "import warnings \n",
        "\n",
        "import tqdm\n",
        "from helpers2 import *\n",
        "warnings.simplefilter('ignore')"
      ],
      "execution_count": 5,
      "outputs": []
    },
    {
      "cell_type": "code",
      "metadata": {
        "id": "zx8r3YpELp4E"
      },
      "source": [
        "!ffmpeg -i  \"/content/drive/My Drive/PFE/vocal_10.mp3\" \"vocal.wav\"\n",
        "!ffmpeg -i  \"/content/drive/My Drive/PFE/piano_10.mp3\" \"music.wav\""
      ],
      "execution_count": null,
      "outputs": []
    },
    {
      "cell_type": "code",
      "metadata": {
        "id": "hndetNX48wJv"
      },
      "source": [
        "def gain_params(s1,s2,y):\n",
        " \n",
        "        l2_s1 = torch.norm(s1.float(),2, None)\n",
        "                 \n",
        "        l2_s2 = torch.norm(s2.float(),2, None)\n",
        "               \n",
        "        l2_Y = torch.norm(y.float(),2, None)\n",
        "              \n",
        "        # u is initialized by the l2-norm of the initial NMF source estimate sˆ1 \n",
        "        # divided by the l2-norm of the mixed signal y\n",
        "        u = torch.div(l2_s1, l2_Y) \n",
        " \n",
        "        # v is initialized by the same manner\n",
        "        v = torch.div(l2_s2, l2_Y)\n",
        " \n",
        "        return u,v\n",
        "    \n",
        "def gain_params_vec(s1,s2,y):\n",
        " \n",
        "        l2_s1 = torch.norm(s1.float().t(),2, True)\n",
        "                 \n",
        "        l2_s2 = torch.norm(s2.float().t(),2, True)\n",
        "               \n",
        "        l2_Y = torch.norm(y.float().t(),2, True)\n",
        "              \n",
        "        # u is initialized by the l2-norm of the initial NMF source estimate sˆ1 \n",
        "        # divided by the l2-norm of the mixed signal y\n",
        "        u = torch.div(l2_s1, l2_Y) \n",
        " \n",
        "        # v is initialized by the same manner\n",
        "        v = torch.div(l2_s2, l2_Y)\n",
        " \n",
        "        return u,v\n",
        "\n",
        "def gain_params_matrix(s1,s2,y):\n",
        "\n",
        "  u = y / s1\n",
        "  v = y / s2\n",
        "\n",
        "  return u,v\n",
        "    \n",
        "    \n",
        "def feed_(x):\n",
        "    \n",
        "    f = model(x)\n",
        "    f1 = f[0] \n",
        "    f2 = f[1]\n",
        "    return f1,f2\n",
        " \n",
        "def energy_1(x_source1):\n",
        "    \n",
        "    f1,f2 = feed_(x_source1)\n",
        "    e1 = (1 - f1 ).pow(2) + f2.pow(2)\n",
        "    return e1 \n",
        " \n",
        "def energy_2(x_source2):\n",
        " \n",
        "    f1,f2 = feed_(x_source2)\n",
        "    e2 = f1.pow(2) + (1 - f2 ).pow(2) \n",
        "    return e2\n",
        " \n",
        "\n",
        "\n",
        "\n",
        " \n",
        "def E_err_vec(s1,s2,y,u,v):\n",
        "  \n",
        "    return torch.norm(u*s1 + v*s2 - y,'fro',None)\n",
        " \n",
        "def E_err_vec_nouv(s1,s2,y):\n",
        "  \n",
        "    return torch.norm(s1 + s2 - y,'fro',None)\n",
        " \n",
        "def nonneg_constraint_sum(s1,s2,u,v):\n",
        "    \n",
        "    Rs1=min([s1.min().item(),0])**2\n",
        "    Rs2=min([s2.min().item(),0])**2\n",
        "    Ru=min([u,0])**2\n",
        "    Rv=min([v,0])**2\n",
        "    \n",
        "    return Rs1+Rs2+Ru+Rv\n",
        " \n",
        "def reconstruct(est1,est2,u,v,Y,p):\n",
        "    \n",
        "    speech_num = (u * est1)**p\n",
        "    music_num = (v * est2)**p\n",
        "    den = (u * est1)**p + (v * est2)**p\n",
        "    \n",
        "    speech_est = (speech_num/den)*Y\n",
        "    music_est = (music_num/den)*Y\n",
        "    \n",
        "    return speech_est,music_est\n",
        " \n",
        "def Criteria(s1,s2,Yabs,u,v,i,lambd,beta) :\n",
        "    \n",
        "    # Feed forward and get energy 1 and 2\n",
        "    e1 = energy_1(s1[:,i].float())\n",
        "    e2 = energy_2(s2[:,i].float())\n",
        "    \n",
        "    # Get least square error :\n",
        "    e_rr=E_err_vec(s1[:,i], s2[:,i], Yabs[:,i],u[i],v[i])\n",
        "    \n",
        "    # Non negative constraint\n",
        "    R = nonneg_constraint_sum(s1[:,i], s2[:,i], u[i], v[i])\n",
        "    \n",
        "    # Compute total Loss :\n",
        "    \n",
        "    #print(f'E1 = {e1:.2f} ... E2 = {e2:.2f} ... Err = {e_rr:.2f} ... R = {R:.2f} \\n')\n",
        "    return e1 + e2 + lambd*e_rr + beta*R\n",
        "\n",
        "\n",
        "def Criteria_nouv(s1,s2,Yabs,i,lambd,beta) :\n",
        "    \n",
        "    # Feed forward and get energy 1 and 2\n",
        "    e1 = energy_1(s1[:,i].float())\n",
        "    e2 = energy_2(s2[:,i].float())\n",
        "    \n",
        "    # Get least square error :\n",
        "    e_rr=E_err_vec_nouv(s1[:,i], s2[:,i], Yabs[:,i])\n",
        "    \n",
        "    # Non negative constraint\n",
        "    #R = nonneg_constraint_sum(s1[:,i], s2[:,i], u[:,i], v[:,i])\n",
        "    \n",
        "    # Compute total Loss :\n",
        "    \n",
        "    #print(f'E1 = {e1:.2f} ... E2 = {e2:.2f} ... Err = {e_rr:.2f} ... R = {R:.2f} \\n')\n",
        "    return e1 + e2 + lambd*e_rr"
      ],
      "execution_count": 184,
      "outputs": []
    },
    {
      "cell_type": "code",
      "metadata": {
        "id": "9736V190deKJ"
      },
      "source": [
        "def eval(speech_estx,music_estx,ux,vx,scaler1,scaler2,p,WINDOW = 'hamming',WINDOW_SIZE=480,OVERLAP = 0.8 ,NFFT=512,save=False,ret=False):\n",
        "\n",
        "  OVERLAP = OVERLAP * WINDOW_SIZE\n",
        "\n",
        "  speech_estx = speech_estx.cpu().detach().numpy()\n",
        "  music_estx = music_estx.cpu().detach().numpy()\n",
        "  ux = ux.cpu().detach().numpy()\n",
        "  vx = vx.cpu().detach().numpy()\n",
        "\n",
        "  ux[ux==0]=0.00001\n",
        "  vx[vx==0]=0.00001\n",
        "  speech_estx = np.transpose(scaler1.inverse_transform(np.transpose(speech_estx)))\n",
        "  music_estx = np.transpose(scaler2.inverse_transform(np.transpose(music_estx)))\n",
        "  # Omit negative values\n",
        "  speech_estx[speech_estx<0]=0.00001\n",
        "  music_estx[music_estx<0]=0.00001\n",
        "\n",
        "  speech_est_c,music_est_c=reconstruct(speech_estx,music_estx,ux,vx,Y,p)\n",
        "\n",
        "\n",
        "\n",
        "  #Recover ISTFT\n",
        "  _, speech_est_sig =  signal.istft(speech_est_c,\n",
        "                        samplerate,\n",
        "                        window = WINDOW,\n",
        "                        nperseg=WINDOW_SIZE,\n",
        "                        noverlap=OVERLAP,\n",
        "                        nfft = NFFT)\n",
        "\n",
        "  _, music_est_sig =  signal.istft(music_est_c,\n",
        "                        samplerate,\n",
        "                        window = WINDOW,\n",
        "                        nperseg=WINDOW_SIZE,\n",
        "                        noverlap=OVERLAP,\n",
        "                        nfft = NFFT)\n",
        "\n",
        "  speech_est_sig = speech_est_sig[:speech_test.shape[0]]\n",
        "  music_est_sig = music_est_sig[:music_test.shape[0]]\n",
        "\n",
        "  #sdr_speech = SDR(s_est=speech_est_sig,s=speech_test)\n",
        "  #sdr_music = SDR(s_est=music_est_sig, s=music_test)\n",
        "  oc.myScript(speech_est_sig,speech_test)\n",
        "  oc.myScript(music_est_sig,music_test)       \n",
        "       \n",
        "\n",
        "      \n",
        "  #print('SDR Speech = {:.3f} ... SDR Music = {:.3f}'.format(sdr_speech,sdr_music))\n",
        "\n",
        "  if save :\n",
        "    np.savetxt('Matlab_SDR/speech_orig.txt',speech_test)\n",
        "    np.savetxt('Matlab_SDR/speech_est.txt',speech_est_sig)\n",
        "\n",
        "  if ret :\n",
        "    return speech_est_sig\n"
      ],
      "execution_count": 185,
      "outputs": []
    },
    {
      "cell_type": "code",
      "metadata": {
        "id": "OvyqVZakfnwF"
      },
      "source": [
        "def reconstruct(est1,est2,Y,p):\n",
        "    \n",
        "    speech_num = (est1)**p\n",
        "    music_num = (est2)**p\n",
        "    den = (est1)**p + (est2)**p\n",
        "    \n",
        "    speech_est = (speech_num/den)*Y\n",
        "    music_est = (music_num/den)*Y\n",
        "    \n",
        "    return speech_est,music_est\n",
        "\n",
        "def eval_nouv(speech_estx,music_estx,scaler1,scaler2,p,WINDOW = 'hamming',WINDOW_SIZE=480,OVERLAP = 0.8 ,NFFT=512,save=False,ret=False):\n",
        "\n",
        "  OVERLAP = OVERLAP * WINDOW_SIZE\n",
        "\n",
        "  speech_estx = speech_estx.cpu().detach().numpy()\n",
        "  music_estx = music_estx.cpu().detach().numpy()\n",
        "\n",
        "  speech_estx = np.transpose(scaler1.inverse_transform(np.transpose(speech_estx)))\n",
        "  music_estx = np.transpose(scaler2.inverse_transform(np.transpose(music_estx)))\n",
        "  # Omit negative values\n",
        "  speech_estx[speech_estx<0]=0.00001\n",
        "  music_estx[music_estx<0]=0.00001\n",
        "\n",
        "  speech_est_c,music_est_c=reconstruct(speech_estx,music_estx,Y,p)\n",
        "\n",
        "\n",
        "\n",
        "  #Recover ISTFT\n",
        "  _, speech_est_sig =  signal.istft(speech_est_c,\n",
        "                        samplerate,\n",
        "                        window = WINDOW,\n",
        "                        nperseg=WINDOW_SIZE,\n",
        "                        noverlap=OVERLAP,\n",
        "                        nfft = NFFT)\n",
        "\n",
        "  _, music_est_sig =  signal.istft(music_est_c,\n",
        "                        samplerate,\n",
        "                        window = WINDOW,\n",
        "                        nperseg=WINDOW_SIZE,\n",
        "                        noverlap=OVERLAP,\n",
        "                        nfft = NFFT)\n",
        "\n",
        "  speech_est_sig = speech_est_sig[:speech_test.shape[0]]\n",
        "  music_est_sig = music_est_sig[:music_test.shape[0]]\n",
        "\n",
        "  #sdr_speech = SDR(s_est=speech_est_sig,s=speech_test)\n",
        "  #sdr_music = SDR(s_est=music_est_sig, s=music_test)\n",
        "  oc.myScript(speech_est_sig,speech_test)\n",
        "  oc.myScript(music_est_sig,music_test)       \n",
        "       \n",
        "\n",
        "      \n",
        "  #print('SDR Speech = {:.3f} ... SDR Music = {:.3f}'.format(sdr_speech,sdr_music))\n",
        "\n",
        "  if save :\n",
        "    np.savetxt('Matlab_SDR/speech_orig.txt',speech_test)\n",
        "    np.savetxt('Matlab_SDR/speech_est.txt',speech_est_sig)\n",
        "\n",
        "  if ret :\n",
        "    return speech_est_sig\n"
      ],
      "execution_count": 186,
      "outputs": []
    },
    {
      "cell_type": "markdown",
      "metadata": {
        "id": "L7qettEWB-Sm"
      },
      "source": [
        "# 1.Data Preprocessing :"
      ]
    },
    {
      "cell_type": "markdown",
      "metadata": {
        "id": "80bIEMugCQSv"
      },
      "source": [
        "* Speech_train : Used to train NMF speech.\n",
        "* music_train : used to train NMF music.\n",
        "* Y_music and Y_speech : complex spectrogram pf train.\n",
        "* Yabs_music and Yabs_speech : abs cpetrogram train.\n",
        "* Ytest and Yabs_test : Spectrograms of test.\n",
        "* test , speech_t, music_t : signals of test"
      ]
    },
    {
      "cell_type": "code",
      "metadata": {
        "colab": {
          "base_uri": "https://localhost:8080/"
        },
        "id": "5LpoHlQBB5g9",
        "outputId": "f1ed08c0-926f-4130-bfd4-578480897e95"
      },
      "source": [
        "start = 1 * 60 * 44100\n",
        "end = 2 * 60 * 44100 \n",
        "\n",
        "\n",
        "PATH = '/content/drive/My Drive/PFE/'\n",
        "samplerate_s, data_speech = read(PATH+\"DATA/Conversation.wav\")\n",
        "samplerate_m, data_music = read(PATH+\"DATA/Bigmusic2.wav\")\n",
        "fs = 16000\n",
        "\n",
        "rate = samplerate_s / fs\n",
        "\n",
        "\n",
        "\n",
        "\n",
        "speech_train = data_speech[start : end,0]\n",
        "music_train = data_music[start:end, 0]\n",
        "\n",
        "\n",
        "speech_train = signal.resample(speech_train,int(speech_train.shape[0]/rate))\n",
        "music_train = signal.resample(music_train,int(music_train.shape[0]/rate))\n",
        "samplerate=int(samplerate_m/rate)\n",
        "length=music_train.shape[0]/samplerate\n",
        "\n",
        "print('Shape of the test {} ... Length : {:.2f}s ... Sample rate : {}'.format(music_train.shape[0],length,samplerate))\n",
        "print('Downsampled rate = {}'.format(samplerate))\n",
        "\n",
        "\n",
        "music_train = butter_lowpass_filter(music_train,5000,fs)\n",
        "speech_train = butter_lowpass_filter(speech_train,5000,fs)\n",
        "\n",
        "\n",
        "\n",
        "samplerate = fs\n",
        "\"\"\"\n",
        "STFT of SPEECH AND MUSIC\n",
        "\"\"\"\n",
        "\n",
        "WINDOW = 'hamming'\n",
        "WINDOW_SIZE=480\n",
        "OVERLAP = 0.8 * WINDOW_SIZE\n",
        "NFFT=512\n",
        "\n",
        "_,_,Y_speech= signal.stft(speech_train,samplerate,window=WINDOW,nperseg=WINDOW_SIZE,noverlap=OVERLAP,nfft=NFFT)\n",
        "Yabs_speech=np.abs(Y_speech)\n",
        "\n",
        "Yabs_speech[Yabs_speech==0]=0.00001\n",
        "\n",
        "_,_,Y_music= signal.stft(music_train,samplerate,window=WINDOW,nperseg=WINDOW_SIZE,noverlap=OVERLAP,nfft=NFFT)\n",
        "Yabs_music = np.abs(Y_music)\n",
        "\n",
        "Yabs_music[Yabs_music==0]=0.00001"
      ],
      "execution_count": 8,
      "outputs": [
        {
          "output_type": "stream",
          "text": [
            "Shape of the test 960000 ... Length : 60.00s ... Sample rate : 16000\n",
            "Downsampled rate = 16000\n"
          ],
          "name": "stdout"
        }
      ]
    },
    {
      "cell_type": "markdown",
      "metadata": {
        "id": "qeEiplV2Dtd4"
      },
      "source": [
        "# 2. Test DATA :\n"
      ]
    },
    {
      "cell_type": "code",
      "metadata": {
        "colab": {
          "base_uri": "https://localhost:8080/"
        },
        "id": "mxGx1_JoDtth",
        "outputId": "e035b5d7-06d2-482f-9121-8e29880c1bc8"
      },
      "source": [
        "fs = 16000\n",
        "SMR_db = 0\n",
        "N_test_utterances = 1\n",
        "\n",
        "rate = samplerate_s / fs\n",
        "\n",
        "# 5 min for AE 10 - 15\n",
        "start = 20 * 60 * 44100\n",
        "step = int(0.5 * 60 * 44100)\n",
        "\n",
        "test_list_s = []\n",
        "test_list_m = []\n",
        "test_list = []\n",
        "spectres = []\n",
        "spectres_abs = []\n",
        "spectres_clean_speech = []\n",
        "spectres_clean_speech_abs = []\n",
        "\n",
        "\n",
        "for i in range(N_test_utterances):\n",
        "\n",
        "  # Clean Speech \n",
        "  test_s = data_speech[start+i*step:start+(i+1)*step,0]\n",
        "  test_s = signal.resample(test_s,int(test_s.shape[0]/rate))\n",
        "  test_s = butter_lowpass_filter(test_s,5000,fs)\n",
        "\n",
        "  # Clean Music\n",
        "  test_m = data_music[start+i*step:start+(i+1)*step,0]\n",
        "  test_m = signal.resample(test_m,int(test_m.shape[0]/rate))\n",
        "  test_m = butter_lowpass_filter(test_m,5000,fs)\n",
        "\n",
        "  # Get mixed signal\n",
        "  test,speech_test,music_test=get_mixed_signal(test_s,test_m,SMR_db)\n",
        "\n",
        "\n",
        "  test_list.append(test)\n",
        "  test_list_s.append(speech_test)\n",
        "  test_list_m.append(music_test)\n",
        "\n",
        "  # STFT Mixed signal\n",
        "  _,_,Ytest= signal.stft(test,samplerate,window=WINDOW,nperseg=WINDOW_SIZE,noverlap=OVERLAP,nfft=NFFT)\n",
        "  Yabs_test=np.abs(Ytest)\n",
        "  Yabs_test[Yabs_test==0]=0.00001\n",
        "\n",
        "  spectres.append(Ytest)\n",
        "  spectres_abs.append(Yabs_test)\n",
        "\n",
        "  # STFT Clean SPeech\n",
        "  _,_,Ytest= signal.stft(speech_test,samplerate,window=WINDOW,nperseg=WINDOW_SIZE,noverlap=OVERLAP,nfft=NFFT)\n",
        "  Yabs_test=np.abs(Ytest)\n",
        "  Yabs_test[Yabs_test==0]=0.00001\n",
        "\n",
        "  spectres_clean_speech.append(Ytest)\n",
        "  spectres_clean_speech_abs.append(Yabs_test)\n"
      ],
      "execution_count": 29,
      "outputs": [
        {
          "output_type": "stream",
          "text": [
            "SMR = -0.00\n"
          ],
          "name": "stdout"
        }
      ]
    },
    {
      "cell_type": "code",
      "metadata": {
        "id": "Je_9erCP7Az-"
      },
      "source": [
        "np.save(\"Signals/speech_list.npy\",np.array(test_list_s))\n",
        "np.save(\"Signals/music_list.npy\",np.array(test_list_m))\n",
        "np.save(\"Signals/test_list.npy\",np.array(test_list))\n",
        "np.save(\"Signals/mix_spectres.npy\",np.array(spectres))\n",
        "np.save(\"Signals/mix_spectres_abs.npy\",np.array(spectres_abs))\n",
        "np.save(\"Signals/clean_speech_spectres.npy\",np.array(spectres_clean_speech))\n",
        "np.save(\"Signals/clean_speech_spectres_abs.npy\",np.array(spectres_clean_speech_abs))"
      ],
      "execution_count": 30,
      "outputs": []
    },
    {
      "cell_type": "markdown",
      "metadata": {
        "id": "24bJxRaFHCVq"
      },
      "source": [
        "# 3. Train NMF Speech and Music :"
      ]
    },
    {
      "cell_type": "code",
      "metadata": {
        "id": "HyQG-yyOHCkk"
      },
      "source": [
        "Ns = 16\n",
        "\n",
        "model = NMF(n_components=Ns, init='nndsvd',alpha=0.0,beta_loss='itakura-saito',solver=\"mu\",max_iter=100, random_state=7)\n",
        "model.fit(np.transpose(Yabs_speech))\n",
        "Ws = np.transpose(model.components_)\n",
        "\n",
        "Nm = 16\n",
        "\n",
        "model = NMF(n_components=Nm, init='nndsvd',alpha=0.0,beta_loss='itakura-saito',solver=\"mu\",max_iter=100, random_state=7)\n",
        "model.fit(np.transpose(Yabs_music))\n",
        "Wm = np.transpose(model.components_)\n",
        "\n",
        "B = np.hstack([Ws,Wm])\n",
        "#np.save('B16.npy',B)"
      ],
      "execution_count": null,
      "outputs": []
    },
    {
      "cell_type": "markdown",
      "metadata": {
        "id": "5hF0g6ccCv42"
      },
      "source": [
        "# 3. Apply Test NMF :"
      ]
    },
    {
      "cell_type": "code",
      "metadata": {
        "id": "Soiy1w-4sl80"
      },
      "source": [
        "B = np.load('B.npy')\n",
        "#scaler = MinMaxScaler()\n",
        "#B = scaler.fit_transform(B)\n",
        "\n",
        "p = 3\n",
        "Ns=8\n",
        "Nm=8\n"
      ],
      "execution_count": 215,
      "outputs": []
    },
    {
      "cell_type": "code",
      "metadata": {
        "colab": {
          "base_uri": "https://localhost:8080/"
        },
        "id": "HhWsg8ohr4PR",
        "outputId": "af91876a-d386-4a94-e877-dcd2b7442752"
      },
      "source": [
        "sdr_speech_list=[]\n",
        "sdr_music_list=[]\n",
        "\n",
        "speech_est_list=[]\n",
        "music_est_list=[]\n",
        "for i in range(N_test_utterances):\n",
        "\n",
        "  model_test = NMF(n_components=Ns+Nm, init='nndsvd',alpha=100,beta_loss='itakura-saito',solver=\"mu\",max_iter=100, random_state=7)\n",
        "  model_test.fit(np.transpose(spectres_abs[i]))\n",
        "\n",
        "  model_test.components_ = np.transpose(B)\n",
        "  G_test = model_test.transform(np.transpose(spectres_abs[i]))\n",
        "\n",
        "  print('Testing NMF .... Done')\n",
        "  Sources,Masks=Reconstruct(B=B,G=np.transpose(G_test),Ns=Ns,Nm=Nm,Yabs=spectres[i],p=p)\n",
        "\n",
        "  print('Reconstruction Step .... Done')\n",
        "  speech_est = Sources[0]\n",
        "  music_est = Sources[1]\n",
        "\n",
        "  speech_est_list.append(Sources[0])\n",
        "  music_est_list.append(Sources[1])\n",
        "\n",
        "  _, speech_est =  signal.istft(speech_est,\n",
        "                        samplerate,\n",
        "                        window = WINDOW,\n",
        "                        nperseg=WINDOW_SIZE,\n",
        "                        noverlap=OVERLAP,\n",
        "                        nfft = NFFT)\n",
        "\n",
        "  _, music_est =  signal.istft(music_est,\n",
        "                        samplerate,\n",
        "                        window = WINDOW,\n",
        "                        nperseg=WINDOW_SIZE,\n",
        "                        noverlap=OVERLAP,\n",
        "                        nfft = NFFT)\n",
        "\n",
        "  speech_est = speech_est[:test_list_s[i].shape[0]]\n",
        "  music_est = music_est[:test_list_m[i].shape[0]]\n",
        "\n",
        "  sdr_speech = SDR(s_est=speech_est,s=test_list_s[i])\n",
        "  sdr_music = SDR(s_est=music_est, s=test_list_m[i])\n",
        "\n",
        "  sdr_speech_list.append(sdr_speech)\n",
        "  sdr_music_list.append(sdr_music)\n",
        "  print('SDR Speech = {:.2f} ... SDR Music = {:.2f}'.format(sdr_speech,sdr_music))\n",
        "  oc.myScript(speech_est,test_list_s[i])\n",
        "\n"
      ],
      "execution_count": 216,
      "outputs": [
        {
          "output_type": "stream",
          "text": [
            "Testing NMF .... Done\n",
            "Reconstruction Step .... Done\n",
            "SDR Speech = 2.50 ... SDR Music = 2.50\n",
            "SDR =  4.3288\n",
            "warning: division by zero\n",
            "SIR = Inf\n",
            "SAR =  4.3288\n"
          ],
          "name": "stdout"
        }
      ]
    },
    {
      "cell_type": "code",
      "metadata": {
        "id": "iYYW9oAvHSph"
      },
      "source": [
        "   ## Save the lists of spectrogram estimates of tests :\n",
        "\n",
        "np.save(\"Signals/speech_ests.npy\",np.array(speech_est_list))\n",
        "np.save(\"Signals/music_ests.npy\",np.array(music_est_list))"
      ],
      "execution_count": 33,
      "outputs": []
    },
    {
      "cell_type": "code",
      "metadata": {
        "id": "Mu5qka0dqL9Z"
      },
      "source": [
        "np.savetxt(\"Matlab_SDR/nmf_est.txt\",np.array(speech_est))\n"
      ],
      "execution_count": 34,
      "outputs": []
    },
    {
      "cell_type": "code",
      "metadata": {
        "id": "fQ0eXrkFDyw7"
      },
      "source": [
        "np.save(\"Matlab_SDR/nmf_est.npy\",np.array(speech_est))\n"
      ],
      "execution_count": null,
      "outputs": []
    },
    {
      "cell_type": "markdown",
      "metadata": {
        "id": "5ETevTiW2LbK"
      },
      "source": [
        "## 3.2. Bootstraping to compute SDR:"
      ]
    },
    {
      "cell_type": "code",
      "metadata": {
        "colab": {
          "base_uri": "https://localhost:8080/"
        },
        "id": "3zyPZfXs2KtN",
        "outputId": "c49645cc-aaf3-46a1-ce06-36e8de0bca1a"
      },
      "source": [
        "N_boot = 1000\n",
        "sdr_speech_means=[]\n",
        "sdr_music_means=[]\n",
        "for i in range(N_boot):\n",
        "\n",
        "  sdr_speech_means.append(np.random.choice(np.array(sdr_speech_list),size=len(sdr_speech_list),replace=True).mean())\n",
        "  sdr_music_means.append(np.random.choice(np.array(sdr_music_list),size=len(sdr_music_list),replace=True).mean())\n",
        "\n",
        "print('Bootstrap SDR speech = {} ... SDR Music = {}'.format(np.array(sdr_speech_means).mean(),np.array(sdr_music_means).mean()))"
      ],
      "execution_count": null,
      "outputs": [
        {
          "output_type": "stream",
          "text": [
            "Bootstrap SDR speech = 2.6117202387173104 ... SDR Music = 2.612618558798549\n"
          ],
          "name": "stdout"
        }
      ]
    },
    {
      "cell_type": "markdown",
      "metadata": {
        "id": "AfWg4Ji2DPrR"
      },
      "source": [
        "# 4. Train the DNN :"
      ]
    },
    {
      "cell_type": "code",
      "metadata": {
        "id": "DBNzebF7RKfe"
      },
      "source": [
        "class AEModel(nn.Module):\n",
        "\n",
        "    def __init__(self,d):\n",
        "        super(AEModel, self).__init__()\n",
        "\n",
        "        self.sigmoid = torch.nn.Sigmoid()\n",
        "        self.relu = torch.nn.ReLU()\n",
        "        self.fc1 = nn.Linear(d, 512, bias=False)  # d is dimension of the input.\n",
        "        self.fc2 = nn.Linear(512, 128, bias=False)\n",
        "        self.fc3 = nn.Linear(128, 64, bias=False)\n",
        "        self.fc4 = nn.Linear(64, 128, bias=False)\n",
        "        self.fc5 = nn.Linear(128, 512, bias=False)\n",
        "        self.fc6 = nn.Linear(512, d, bias=False)\n",
        "\n",
        "\n",
        "    def forward(self, x1):\n",
        "\n",
        "        x1 = self.relu(self.fc1(x1))\n",
        "        x1 = self.relu(self.fc2(x1))\n",
        "        x1 = self.relu(self.fc3(x1))\n",
        "        x1 = self.relu(self.fc4(x1))\n",
        "        x1 = self.relu(self.fc5(x1))\n",
        "        x1 = self.fc6(x1)\n",
        "\n",
        "        return x1\n",
        "\n",
        "def AEcost(x,y):\n",
        "\n",
        "  return torch.norm(x - y,'fro',None)\n"
      ],
      "execution_count": 35,
      "outputs": []
    },
    {
      "cell_type": "code",
      "metadata": {
        "id": "mO0KMXTwVRYb"
      },
      "source": [
        "class Net(nn.Module):\n",
        "\n",
        "    def __init__(self,d):\n",
        "        super(Net, self).__init__()\n",
        "\n",
        "        self.sigmoid = torch.nn.Sigmoid()\n",
        "        self.relu = torch.nn.ReLU()\n",
        "        self.fc1 = nn.Linear(d, 512, bias=False)  # d is dimension of the input.\n",
        "        self.fc2 = nn.Linear(512, 128, bias=False)\n",
        "        self.fc3 = nn.Linear(128, 64, bias=False)\n",
        "        self.fc4 = nn.Linear(64, 2, bias=False)\n",
        "\n",
        "\n",
        "    def forward(self, x1):\n",
        "\n",
        "        x1 = self.relu(self.fc1(x1))\n",
        "        x1 = self.relu(self.fc2(x1))\n",
        "        x1 = self.relu(self.fc3(x1))\n",
        "        x1 = self.sigmoid(self.fc4(x1))\n",
        "\n",
        "        return x1\n"
      ],
      "execution_count": 36,
      "outputs": []
    },
    {
      "cell_type": "markdown",
      "metadata": {
        "id": "Hg1EsXg1DU1f"
      },
      "source": [
        "## 4.1. Compute initial estimates of U and V :"
      ]
    },
    {
      "cell_type": "code",
      "metadata": {
        "id": "6BGhp5jEDe_h"
      },
      "source": [
        "N_uterance = 0\n",
        "s1 = abs(np.load(\"Signals/speech_ests.npy\"))[N_uterance]\n",
        "s2 = abs(np.load(\"Signals/music_ests.npy\"))[N_uterance]\n",
        "Yabs = np.load(\"Signals/mix_spectres_abs.npy\")[N_uterance]\n",
        "Y = np.load(\"Signals/mix_spectres.npy\")[N_uterance]\n",
        "speech_test = np.load(\"Signals/speech_list.npy\")[N_uterance]\n",
        "music_test = np.load(\"Signals/music_list.npy\")[N_uterance]\n",
        "Y_clean = np.load(\"Signals/clean_speech_spectres.npy\")[N_uterance]\n",
        "Y_clean_abs = np.load(\"Signals/clean_speech_spectres_abs.npy\")[N_uterance]\n",
        "\"\"\"\n",
        "u,v = gain_params_matrix(s1, s2, Yabs)\n",
        "\n",
        "u = torch.tensor(u)\n",
        "v = torch.tensor(v)\n",
        "u0 = u ; v0 = v\n",
        "\n",
        "\n",
        "u00 = u0.detach().numpy()\n",
        "v00 = v0.detach().numpy()\n",
        "\"\"\"\n",
        "scaler = MinMaxScaler()\n",
        "scaler.fit(np.transpose(Yabs))\n",
        "\n",
        "Yabs = np.transpose(scaler.transform(np.transpose(Yabs)))\n",
        "s1 = np.transpose(scaler.transform(np.transpose(s1)))\n",
        "s2 = np.transpose(scaler.transform(np.transpose(s2)))\n",
        "\n",
        "s1 = torch.tensor(s1)\n",
        "s2 = torch.tensor(s2)\n",
        "Yabs = torch.tensor(Yabs)\n",
        "\n",
        "\n",
        "\n"
      ],
      "execution_count": 205,
      "outputs": []
    },
    {
      "cell_type": "markdown",
      "metadata": {
        "id": "mN2AWTxNGvfe"
      },
      "source": [
        "## 4.3. Build Model :"
      ]
    },
    {
      "cell_type": "code",
      "metadata": {
        "id": "YVfYjO3CHGJ-"
      },
      "source": [
        "AE = AEModel(257)\n",
        "AE.load_state_dict(torch.load('./AE-DNN-weights-Big3.pt',map_location=torch.device('cpu')))\n",
        "\n",
        "model = Net(257)"
      ],
      "execution_count": 206,
      "outputs": []
    },
    {
      "cell_type": "code",
      "metadata": {
        "id": "d7WVU-eTCQMh"
      },
      "source": [
        "model.fc1.weight = AE.fc1.weight\n",
        "model.fc2.weight = AE.fc2.weight\n",
        "model.fc3.weight = AE.fc3.weight\n",
        "#model.fc3.weight = AE.fc3.weight\n"
      ],
      "execution_count": 207,
      "outputs": []
    },
    {
      "cell_type": "code",
      "metadata": {
        "id": "1hioYMsFkwPE"
      },
      "source": [
        "\n",
        "model.fc1.weight.requires_grad=False\n",
        "model.fc2.weight.requires_grad=False\n",
        "model.fc3.weight.requires_grad=False\n",
        "#model.fc4.weight.requires_grad=False\n"
      ],
      "execution_count": 208,
      "outputs": []
    },
    {
      "cell_type": "code",
      "metadata": {
        "colab": {
          "base_uri": "https://localhost:8080/"
        },
        "id": "_6styD3AlU69",
        "outputId": "ed581aa4-2e2e-4bff-87ef-ffb5be92c494"
      },
      "source": [
        "print(torch.cuda.is_available())\n",
        "\n",
        "device = torch.device(\"cuda:0\" if torch.cuda.is_available() else \"cpu\")\n",
        "print(device)\n",
        "\n",
        "s1 = s1.to(device)\n",
        "s2 = s2.to(device)\n",
        "u = u.to(device)\n",
        "v = v.to(device)\n",
        "Yabs = Yabs.to(device)\n",
        "\n",
        "s1.requires_grad = True\n",
        "s2.requires_grad = True\n",
        "u.requires_grad = True\n",
        "v.requires_grad = True\n",
        "Yabs.requires_grad = False\n",
        "\n",
        "model = model.to(device)\n"
      ],
      "execution_count": 209,
      "outputs": [
        {
          "output_type": "stream",
          "text": [
            "True\n",
            "cuda:0\n"
          ],
          "name": "stdout"
        }
      ]
    },
    {
      "cell_type": "markdown",
      "metadata": {
        "id": "Cu8pH3nxIm_D"
      },
      "source": [
        "## 4.5. Training Loop :"
      ]
    },
    {
      "cell_type": "code",
      "metadata": {
        "id": "wHlxcxlXn6q-"
      },
      "source": [
        "samplerate = 16000"
      ],
      "execution_count": 25,
      "outputs": []
    },
    {
      "cell_type": "code",
      "metadata": {
        "id": "U-wm-KCR5QIK"
      },
      "source": [
        "params = list(model.parameters())+[u]+[v]\n",
        "optimizer = SGD(params,lr=0.0001)"
      ],
      "execution_count": 160,
      "outputs": []
    },
    {
      "cell_type": "code",
      "metadata": {
        "id": "DxRcB0uLIFDl"
      },
      "source": [
        "\n",
        "model.train()\n",
        "N_epochs = 20\n",
        "for e in range(N_epochs):\n",
        "\n",
        "\n",
        "    loss_e=0.0\n",
        "    for i in tqdm(range(s1.shape[1]),leave=True,position=0):\n",
        "\n",
        "            optimizer.zero_grad()\n",
        "            loss = Criteria(s1,s2,Yabs,u,v,i,25,1)\n",
        "            loss.backward()\n",
        "            # fill zeros into the first row of grad\n",
        "            u.grad.data[:i].fill_(0)\n",
        "            u.grad.data[i+1:].fill_(0)  \n",
        "            v.grad.data[:i].fill_(0)\n",
        "            v.grad.data[i+1:].fill_(0)\n",
        "            s1.grad.data[:,:i].fill_(0)\n",
        "            s1.grad.data[:,i+1:].fill_(0)\n",
        "            s2.grad.data[:,:i].fill_(0)\n",
        "            s2.grad.data[:,i+1:].fill_(0)\n",
        "\n",
        "\n",
        "\n",
        "            optimizer.step()\n",
        "            loss_e+=loss\n",
        "    eval(s1,s2,u,v,scaler,scaler,p=1)\n",
        "    print('Epoch {} , Loss = {:.3f}'.format(e,loss_e/s1.shape[1]))"
      ],
      "execution_count": null,
      "outputs": []
    },
    {
      "cell_type": "code",
      "metadata": {
        "colab": {
          "base_uri": "https://localhost:8080/"
        },
        "id": "4F-iQSg9Hvjg",
        "outputId": "e8242fd6-f558-4cb1-b7c9-2b02e23c2078"
      },
      "source": [
        "eval(s1,s2,u,v,scaler,scaler,save=False,p=2)  "
      ],
      "execution_count": 53,
      "outputs": [
        {
          "output_type": "stream",
          "text": [
            "SDR =  4.0098\n",
            "warning: division by zero\n",
            "SIR = Inf\n",
            "SAR =  4.0098\n",
            "SDR =  3.4012\n",
            "warning: division by zero\n",
            "SIR = Inf\n",
            "SAR =  3.4012\n"
          ],
          "name": "stdout"
        }
      ]
    },
    {
      "cell_type": "code",
      "metadata": {
        "id": "YjavWluOPiJp"
      },
      "source": [
        "params = list(model.parameters())+[u]+[v]\n",
        "optimizer = Adam(params,lr=0.01)"
      ],
      "execution_count": 117,
      "outputs": []
    },
    {
      "cell_type": "code",
      "metadata": {
        "id": "xCmafxIAKThB"
      },
      "source": [
        "model.train()\n",
        "N_epochs = 20\n",
        "bs = 50\n",
        "N_batches = int(s1.shape[1]/bs)\n",
        "\n",
        "for e in range(N_epochs):\n",
        "    \n",
        "    loss_e=0.0\n",
        "    for i in tqdm(range(N_batches),leave=True,position=0):\n",
        "\n",
        "            loss_batch = 0.0\n",
        "            optimizer.zero_grad()\n",
        "            for b in range(bs):\n",
        "           \n",
        "              loss_batch += Criteria(s1,s2,Yabs,u,v,i*bs+b,60,1)\n",
        "\n",
        "            loss_batch/=bs\n",
        "            #print(f'Batch N°{i} ... Loss = {loss_batch/bs:.3f}')\n",
        "            loss_batch.backward()\n",
        "            # fill zeros into the first row of grad\n",
        "            u.grad.data[:i*bs].fill_(0)\n",
        "            u.grad.data[(i+1)*bs:].fill_(0) \n",
        "\n",
        "\n",
        "            v.grad.data[:i*bs].fill_(0)\n",
        "            v.grad.data[(i+1)*bs:].fill_(0)\n",
        "\n",
        "            s1.grad.data[:,:i*bs].fill_(0)\n",
        "            s1.grad.data[:,(i+1)*bs:].fill_(0)\n",
        "\n",
        "            s2.grad.data[:,:i*bs].fill_(0)\n",
        "            s2.grad.data[:,(i+1)*bs:].fill_(0)\n",
        "\n",
        "            optimizer.step()\n",
        "            loss_e+=loss_batch\n",
        "\n",
        "    eval(s1,s2,u,v,scaler,scaler,p=1)       \n",
        "    print('Epoch {} , Loss = {:.3f}'.format(e,loss_e/N_batches))"
      ],
      "execution_count": null,
      "outputs": []
    },
    {
      "cell_type": "code",
      "metadata": {
        "id": "KXMCKt94KwTU"
      },
      "source": [
        "\n",
        "#model_path='./Model/DNN-BIG.pt'\n",
        "#torch.save(model.state_dict(), model_path)\n",
        "\"\"\"\n",
        "np.save('./Model/s1_1',s1.cpu().detach().numpy())\n",
        "np.save('./Model/s2_1',s2.cpu().detach().numpy())\n",
        "np.save('./Model/u_1',u.cpu().detach().numpy())\n",
        "np.save('./Model/v_1',v.cpu().detach().numpy())\n"
      ],
      "execution_count": null,
      "outputs": []
    },
    {
      "cell_type": "code",
      "metadata": {
        "colab": {
          "base_uri": "https://localhost:8080/"
        },
        "id": "HcxlrmRaavQI",
        "outputId": "4d61571b-ee5f-412b-c67c-899c0965625e"
      },
      "source": [
        "u*s1 + v*s2 - Yabs"
      ],
      "execution_count": 125,
      "outputs": [
        {
          "output_type": "execute_result",
          "data": {
            "text/plain": [
              "tensor([[2.7528e-02, 7.6878e-02, 1.0964e-01,  ..., 2.5380e-01, 7.3391e-01,\n",
              "         1.0000e+00],\n",
              "        [2.8483e-02, 5.4513e-02, 1.0983e-01,  ..., 3.0935e-01, 8.0447e-01,\n",
              "         9.0042e-01],\n",
              "        [3.0174e-02, 3.8446e-02, 4.1283e-02,  ..., 2.0930e-01, 2.9827e-01,\n",
              "         2.8237e-01],\n",
              "        ...,\n",
              "        [1.8095e-02, 0.0000e+00, 4.4440e-02,  ..., 1.9368e-01, 6.2700e-01,\n",
              "         9.3658e-01],\n",
              "        [1.7288e-02, 1.0353e-04, 4.2306e-02,  ..., 2.8934e-01, 5.9627e-01,\n",
              "         8.4545e-01],\n",
              "        [1.7779e-02, 8.9594e-04, 4.2357e-02,  ..., 3.2266e-01, 5.8065e-01,\n",
              "         8.7627e-01]], device='cuda:0', dtype=torch.float64,\n",
              "       grad_fn=<SubBackward0>)"
            ]
          },
          "metadata": {
            "tags": []
          },
          "execution_count": 125
        }
      ]
    },
    {
      "cell_type": "markdown",
      "metadata": {
        "id": "TMjEKh-pI5fN"
      },
      "source": [
        "## 4.6. Training Loop for u , v matrix :"
      ]
    },
    {
      "cell_type": "code",
      "metadata": {
        "id": "ST1uNx-SaVpd"
      },
      "source": [
        "params = list(model.parameters())+[u]+[v]\n",
        "optimizer = Adam(params,lr=0.0001)"
      ],
      "execution_count": 161,
      "outputs": []
    },
    {
      "cell_type": "code",
      "metadata": {
        "id": "17qw_z6WaRJa"
      },
      "source": [
        "model.train()\n",
        "N_epochs = 20\n",
        "bs = 2\n",
        "N_batches = int(s1.shape[1]/bs)\n",
        "\n",
        "for e in range(N_epochs):\n",
        "    \n",
        "    loss_e=0.0\n",
        "    for i in tqdm(range(N_batches),leave=True,position=0):\n",
        "\n",
        "            loss_batch = 0.0\n",
        "            optimizer.zero_grad()\n",
        "            for b in range(bs):\n",
        "           \n",
        "              loss_batch += Criteria_matrix(s1,s2,Yabs,u,v,i*bs+b,1,1)\n",
        "\n",
        "            loss_batch/=bs\n",
        "            loss_batch.backward()\n",
        "\n",
        "            # fill zeros into the first row of grad\n",
        "            u.grad.data[:,:i*bs].fill_(0)\n",
        "            u.grad.data[:,(i+1)*bs:].fill_(0) \n",
        "\n",
        "\n",
        "            v.grad.data[:,:i*bs].fill_(0)\n",
        "            v.grad.data[:,(i+1)*bs:].fill_(0)\n",
        "\n",
        "            s1.grad.data[:,:i*bs].fill_(0)\n",
        "            s1.grad.data[:,(i+1)*bs:].fill_(0)\n",
        "\n",
        "            s2.grad.data[:,:i*bs].fill_(0)\n",
        "            s2.grad.data[:,(i+1)*bs:].fill_(0)\n",
        "\n",
        "            optimizer.step()\n",
        "            loss_e+=loss_batch\n",
        "\n",
        "    eval(s1,s2,u,v,scaler,scaler,p=1)       \n",
        "    print('Epoch {} , Loss = {:.3f}'.format(e,loss_e/N_batches))"
      ],
      "execution_count": null,
      "outputs": []
    },
    {
      "cell_type": "markdown",
      "metadata": {
        "id": "10B7oiSFgdac"
      },
      "source": [
        "## 4.7. Training Loop No u v :"
      ]
    },
    {
      "cell_type": "code",
      "metadata": {
        "id": "VrzmcZKrgqXG"
      },
      "source": [
        "params = list(model.parameters())+[s1]+[s2]\n",
        "optimizer = Adam(params,lr=0.001)"
      ],
      "execution_count": 210,
      "outputs": []
    },
    {
      "cell_type": "code",
      "metadata": {
        "colab": {
          "base_uri": "https://localhost:8080/"
        },
        "id": "EDJVdJrVc0lV",
        "outputId": "2d734b06-8c9a-4b9a-b983-d3f29d30a244"
      },
      "source": [
        "\n",
        "model.train()\n",
        "N_epochs = 20\n",
        "bs = 10\n",
        "N_batches = int(s1.shape[1]/bs)\n",
        "\n",
        "for e in range(N_epochs):\n",
        "    \n",
        "    loss_e=0.0\n",
        "    for i in tqdm(range(N_batches),leave=True,position=0):\n",
        "\n",
        "            loss_batch = 0.0\n",
        "            optimizer.zero_grad()\n",
        "            for b in range(bs):\n",
        "           \n",
        "              loss_batch += Criteria_nouv(s1,s2,Yabs,i*bs+b,10,1)\n",
        "\n",
        "            loss_batch/=bs\n",
        "            loss_batch.backward()\n",
        "\n",
        "            # fill zeros into the first row of grad\n",
        "\n",
        "\n",
        "            s1.grad.data[:,:i*bs].fill_(0)\n",
        "            s1.grad.data[:,(i+1)*bs:].fill_(0)\n",
        "\n",
        "            s2.grad.data[:,:i*bs].fill_(0)\n",
        "            s2.grad.data[:,(i+1)*bs:].fill_(0)\n",
        "\n",
        "            optimizer.step()\n",
        "            loss_e+=loss_batch\n",
        "\n",
        "    eval_nouv(s1,s2,scaler,scaler,p=1)       \n",
        "    print('Epoch {} , Loss = {:.3f}'.format(e,loss_e/N_batches))"
      ],
      "execution_count": 218,
      "outputs": [
        {
          "output_type": "stream",
          "text": [
            "100%|██████████| 500/500 [00:10<00:00, 47.05it/s]\n"
          ],
          "name": "stderr"
        },
        {
          "output_type": "stream",
          "text": [
            "SDR =  4.5072\n",
            "warning: division by zero\n",
            "SIR = Inf\n",
            "SAR =  4.5072\n",
            "SDR =  4.0809\n",
            "warning: division by zero\n",
            "SIR = Inf\n",
            "SAR =  4.0809\n"
          ],
          "name": "stdout"
        },
        {
          "output_type": "stream",
          "text": [
            "\r  0%|          | 0/500 [00:00<?, ?it/s]"
          ],
          "name": "stderr"
        },
        {
          "output_type": "stream",
          "text": [
            "Epoch 0 , Loss = 3.161\n"
          ],
          "name": "stdout"
        },
        {
          "output_type": "stream",
          "text": [
            "100%|██████████| 500/500 [00:10<00:00, 47.06it/s]\n"
          ],
          "name": "stderr"
        },
        {
          "output_type": "stream",
          "text": [
            "SDR =  4.5382\n",
            "warning: division by zero\n",
            "SIR = Inf\n",
            "SAR =  4.5382\n",
            "SDR =  4.0648\n",
            "warning: division by zero\n",
            "SIR = Inf\n",
            "SAR =  4.0648\n"
          ],
          "name": "stdout"
        },
        {
          "output_type": "stream",
          "text": [
            "\r  0%|          | 0/500 [00:00<?, ?it/s]"
          ],
          "name": "stderr"
        },
        {
          "output_type": "stream",
          "text": [
            "Epoch 1 , Loss = 3.228\n"
          ],
          "name": "stdout"
        },
        {
          "output_type": "stream",
          "text": [
            "100%|██████████| 500/500 [00:10<00:00, 47.10it/s]\n"
          ],
          "name": "stderr"
        },
        {
          "output_type": "stream",
          "text": [
            "SDR =  4.5073\n",
            "warning: division by zero\n",
            "SIR = Inf\n",
            "SAR =  4.5073\n",
            "SDR =  4.0810\n",
            "warning: division by zero\n",
            "SIR = Inf\n",
            "SAR =  4.0810\n"
          ],
          "name": "stdout"
        },
        {
          "output_type": "stream",
          "text": [
            "\r  0%|          | 0/500 [00:00<?, ?it/s]"
          ],
          "name": "stderr"
        },
        {
          "output_type": "stream",
          "text": [
            "Epoch 2 , Loss = 3.160\n"
          ],
          "name": "stdout"
        },
        {
          "output_type": "stream",
          "text": [
            "100%|██████████| 500/500 [00:10<00:00, 47.12it/s]\n"
          ],
          "name": "stderr"
        },
        {
          "output_type": "stream",
          "text": [
            "SDR =  4.5383\n",
            "warning: division by zero\n",
            "SIR = Inf\n",
            "SAR =  4.5383\n",
            "SDR =  4.0649\n",
            "warning: division by zero\n",
            "SIR = Inf\n",
            "SAR =  4.0649\n"
          ],
          "name": "stdout"
        },
        {
          "output_type": "stream",
          "text": [
            "\r  0%|          | 0/500 [00:00<?, ?it/s]"
          ],
          "name": "stderr"
        },
        {
          "output_type": "stream",
          "text": [
            "Epoch 3 , Loss = 3.229\n"
          ],
          "name": "stdout"
        },
        {
          "output_type": "stream",
          "text": [
            "100%|██████████| 500/500 [00:10<00:00, 47.10it/s]\n"
          ],
          "name": "stderr"
        },
        {
          "output_type": "stream",
          "text": [
            "SDR =  4.5074\n",
            "warning: division by zero\n",
            "SIR = Inf\n",
            "SAR =  4.5074\n",
            "SDR =  4.0810\n",
            "warning: division by zero\n",
            "SIR = Inf\n",
            "SAR =  4.0810\n"
          ],
          "name": "stdout"
        },
        {
          "output_type": "stream",
          "text": [
            "\r  0%|          | 0/500 [00:00<?, ?it/s]"
          ],
          "name": "stderr"
        },
        {
          "output_type": "stream",
          "text": [
            "Epoch 4 , Loss = 3.161\n"
          ],
          "name": "stdout"
        },
        {
          "output_type": "stream",
          "text": [
            "100%|██████████| 500/500 [00:10<00:00, 47.09it/s]\n"
          ],
          "name": "stderr"
        },
        {
          "output_type": "stream",
          "text": [
            "SDR =  4.5384\n",
            "warning: division by zero\n",
            "SIR = Inf\n",
            "SAR =  4.5384\n",
            "SDR =  4.0649\n",
            "warning: division by zero\n",
            "SIR = Inf\n",
            "SAR =  4.0649\n"
          ],
          "name": "stdout"
        },
        {
          "output_type": "stream",
          "text": [
            "\r  0%|          | 0/500 [00:00<?, ?it/s]"
          ],
          "name": "stderr"
        },
        {
          "output_type": "stream",
          "text": [
            "Epoch 5 , Loss = 3.229\n"
          ],
          "name": "stdout"
        },
        {
          "output_type": "stream",
          "text": [
            "100%|██████████| 500/500 [00:10<00:00, 47.06it/s]\n"
          ],
          "name": "stderr"
        },
        {
          "output_type": "stream",
          "text": [
            "SDR =  4.5074\n",
            "warning: division by zero\n",
            "SIR = Inf\n",
            "SAR =  4.5074\n",
            "SDR =  4.0810\n",
            "warning: division by zero\n",
            "SIR = Inf\n",
            "SAR =  4.0810\n"
          ],
          "name": "stdout"
        },
        {
          "output_type": "stream",
          "text": [
            "\r  0%|          | 0/500 [00:00<?, ?it/s]"
          ],
          "name": "stderr"
        },
        {
          "output_type": "stream",
          "text": [
            "Epoch 6 , Loss = 3.161\n"
          ],
          "name": "stdout"
        },
        {
          "output_type": "stream",
          "text": [
            "100%|██████████| 500/500 [00:10<00:00, 47.15it/s]\n"
          ],
          "name": "stderr"
        },
        {
          "output_type": "stream",
          "text": [
            "SDR =  4.5384\n",
            "warning: division by zero\n",
            "SIR = Inf\n",
            "SAR =  4.5384\n",
            "SDR =  4.0649\n",
            "warning: division by zero\n",
            "SIR = Inf\n",
            "SAR =  4.0649\n"
          ],
          "name": "stdout"
        },
        {
          "output_type": "stream",
          "text": [
            "\r  0%|          | 0/500 [00:00<?, ?it/s]"
          ],
          "name": "stderr"
        },
        {
          "output_type": "stream",
          "text": [
            "Epoch 7 , Loss = 3.229\n"
          ],
          "name": "stdout"
        },
        {
          "output_type": "stream",
          "text": [
            "100%|██████████| 500/500 [00:10<00:00, 47.11it/s]\n"
          ],
          "name": "stderr"
        },
        {
          "output_type": "stream",
          "text": [
            "SDR =  4.5075\n",
            "warning: division by zero\n",
            "SIR = Inf\n",
            "SAR =  4.5075\n",
            "SDR =  4.0811\n",
            "warning: division by zero\n",
            "SIR = Inf\n",
            "SAR =  4.0811\n"
          ],
          "name": "stdout"
        },
        {
          "output_type": "stream",
          "text": [
            "\r  0%|          | 0/500 [00:00<?, ?it/s]"
          ],
          "name": "stderr"
        },
        {
          "output_type": "stream",
          "text": [
            "Epoch 8 , Loss = 3.161\n"
          ],
          "name": "stdout"
        },
        {
          "output_type": "stream",
          "text": [
            "100%|██████████| 500/500 [00:10<00:00, 47.12it/s]\n"
          ],
          "name": "stderr"
        },
        {
          "output_type": "stream",
          "text": [
            "SDR =  4.5384\n",
            "warning: division by zero\n",
            "SIR = Inf\n",
            "SAR =  4.5384\n",
            "SDR =  4.0649\n",
            "warning: division by zero\n",
            "SIR = Inf\n",
            "SAR =  4.0649\n"
          ],
          "name": "stdout"
        },
        {
          "output_type": "stream",
          "text": [
            "\r  0%|          | 0/500 [00:00<?, ?it/s]"
          ],
          "name": "stderr"
        },
        {
          "output_type": "stream",
          "text": [
            "Epoch 9 , Loss = 3.229\n"
          ],
          "name": "stdout"
        },
        {
          "output_type": "stream",
          "text": [
            "100%|██████████| 500/500 [00:10<00:00, 47.06it/s]\n"
          ],
          "name": "stderr"
        },
        {
          "output_type": "stream",
          "text": [
            "SDR =  4.5075\n",
            "warning: division by zero\n",
            "SIR = Inf\n",
            "SAR =  4.5075\n",
            "SDR =  4.0811\n",
            "warning: division by zero\n",
            "SIR = Inf\n",
            "SAR =  4.0811\n"
          ],
          "name": "stdout"
        },
        {
          "output_type": "stream",
          "text": [
            "\r  0%|          | 0/500 [00:00<?, ?it/s]"
          ],
          "name": "stderr"
        },
        {
          "output_type": "stream",
          "text": [
            "Epoch 10 , Loss = 3.161\n"
          ],
          "name": "stdout"
        },
        {
          "output_type": "stream",
          "text": [
            "100%|██████████| 500/500 [00:10<00:00, 47.11it/s]\n"
          ],
          "name": "stderr"
        },
        {
          "output_type": "stream",
          "text": [
            "SDR =  4.5385\n",
            "warning: division by zero\n",
            "SIR = Inf\n",
            "SAR =  4.5385\n",
            "SDR =  4.0650\n",
            "warning: division by zero\n",
            "SIR = Inf\n",
            "SAR =  4.0650\n"
          ],
          "name": "stdout"
        },
        {
          "output_type": "stream",
          "text": [
            "\r  0%|          | 0/500 [00:00<?, ?it/s]"
          ],
          "name": "stderr"
        },
        {
          "output_type": "stream",
          "text": [
            "Epoch 11 , Loss = 3.229\n"
          ],
          "name": "stdout"
        },
        {
          "output_type": "stream",
          "text": [
            "100%|██████████| 500/500 [00:10<00:00, 47.14it/s]\n"
          ],
          "name": "stderr"
        },
        {
          "output_type": "stream",
          "text": [
            "SDR =  4.5075\n",
            "warning: division by zero\n",
            "SIR = Inf\n",
            "SAR =  4.5075\n",
            "SDR =  4.0811\n",
            "warning: division by zero\n",
            "SIR = Inf\n",
            "SAR =  4.0811\n"
          ],
          "name": "stdout"
        },
        {
          "output_type": "stream",
          "text": [
            "\r  0%|          | 0/500 [00:00<?, ?it/s]"
          ],
          "name": "stderr"
        },
        {
          "output_type": "stream",
          "text": [
            "Epoch 12 , Loss = 3.161\n"
          ],
          "name": "stdout"
        },
        {
          "output_type": "stream",
          "text": [
            "100%|██████████| 500/500 [00:10<00:00, 47.10it/s]\n"
          ],
          "name": "stderr"
        },
        {
          "output_type": "stream",
          "text": [
            "SDR =  4.5385\n",
            "warning: division by zero\n",
            "SIR = Inf\n",
            "SAR =  4.5385\n",
            "SDR =  4.0650\n",
            "warning: division by zero\n",
            "SIR = Inf\n",
            "SAR =  4.0650\n"
          ],
          "name": "stdout"
        },
        {
          "output_type": "stream",
          "text": [
            "\r  0%|          | 0/500 [00:00<?, ?it/s]"
          ],
          "name": "stderr"
        },
        {
          "output_type": "stream",
          "text": [
            "Epoch 13 , Loss = 3.229\n"
          ],
          "name": "stdout"
        },
        {
          "output_type": "stream",
          "text": [
            "100%|██████████| 500/500 [00:10<00:00, 47.07it/s]\n"
          ],
          "name": "stderr"
        },
        {
          "output_type": "stream",
          "text": [
            "SDR =  4.5075\n",
            "warning: division by zero\n",
            "SIR = Inf\n",
            "SAR =  4.5075\n",
            "SDR =  4.0811\n",
            "warning: division by zero\n",
            "SIR = Inf\n",
            "SAR =  4.0811\n"
          ],
          "name": "stdout"
        },
        {
          "output_type": "stream",
          "text": [
            "\r  0%|          | 0/500 [00:00<?, ?it/s]"
          ],
          "name": "stderr"
        },
        {
          "output_type": "stream",
          "text": [
            "Epoch 14 , Loss = 3.161\n"
          ],
          "name": "stdout"
        },
        {
          "output_type": "stream",
          "text": [
            "100%|██████████| 500/500 [00:10<00:00, 47.10it/s]\n"
          ],
          "name": "stderr"
        },
        {
          "output_type": "stream",
          "text": [
            "SDR =  4.5385\n",
            "warning: division by zero\n",
            "SIR = Inf\n",
            "SAR =  4.5385\n",
            "SDR =  4.0650\n",
            "warning: division by zero\n",
            "SIR = Inf\n",
            "SAR =  4.0650\n"
          ],
          "name": "stdout"
        },
        {
          "output_type": "stream",
          "text": [
            "\r  0%|          | 0/500 [00:00<?, ?it/s]"
          ],
          "name": "stderr"
        },
        {
          "output_type": "stream",
          "text": [
            "Epoch 15 , Loss = 3.229\n"
          ],
          "name": "stdout"
        },
        {
          "output_type": "stream",
          "text": [
            "100%|██████████| 500/500 [00:10<00:00, 47.13it/s]\n"
          ],
          "name": "stderr"
        },
        {
          "output_type": "stream",
          "text": [
            "SDR =  4.5076\n",
            "warning: division by zero\n",
            "SIR = Inf\n",
            "SAR =  4.5076\n",
            "SDR =  4.0811\n",
            "warning: division by zero\n",
            "SIR = Inf\n",
            "SAR =  4.0811\n"
          ],
          "name": "stdout"
        },
        {
          "output_type": "stream",
          "text": [
            "\r  0%|          | 0/500 [00:00<?, ?it/s]"
          ],
          "name": "stderr"
        },
        {
          "output_type": "stream",
          "text": [
            "Epoch 16 , Loss = 3.161\n"
          ],
          "name": "stdout"
        },
        {
          "output_type": "stream",
          "text": [
            "100%|██████████| 500/500 [00:10<00:00, 47.13it/s]\n"
          ],
          "name": "stderr"
        },
        {
          "output_type": "stream",
          "text": [
            "SDR =  4.5386\n",
            "warning: division by zero\n",
            "SIR = Inf\n",
            "SAR =  4.5386\n",
            "SDR =  4.0650\n",
            "warning: division by zero\n",
            "SIR = Inf\n",
            "SAR =  4.0650\n"
          ],
          "name": "stdout"
        },
        {
          "output_type": "stream",
          "text": [
            "\r  0%|          | 0/500 [00:00<?, ?it/s]"
          ],
          "name": "stderr"
        },
        {
          "output_type": "stream",
          "text": [
            "Epoch 17 , Loss = 3.229\n"
          ],
          "name": "stdout"
        },
        {
          "output_type": "stream",
          "text": [
            "100%|██████████| 500/500 [00:10<00:00, 47.00it/s]\n"
          ],
          "name": "stderr"
        },
        {
          "output_type": "stream",
          "text": [
            "SDR =  4.5075\n",
            "warning: division by zero\n",
            "SIR = Inf\n",
            "SAR =  4.5075\n",
            "SDR =  4.0811\n",
            "warning: division by zero\n",
            "SIR = Inf\n",
            "SAR =  4.0811\n"
          ],
          "name": "stdout"
        },
        {
          "output_type": "stream",
          "text": [
            "\r  0%|          | 0/500 [00:00<?, ?it/s]"
          ],
          "name": "stderr"
        },
        {
          "output_type": "stream",
          "text": [
            "Epoch 18 , Loss = 3.161\n"
          ],
          "name": "stdout"
        },
        {
          "output_type": "stream",
          "text": [
            "100%|██████████| 500/500 [00:10<00:00, 47.13it/s]\n"
          ],
          "name": "stderr"
        },
        {
          "output_type": "stream",
          "text": [
            "SDR =  4.5386\n",
            "warning: division by zero\n",
            "SIR = Inf\n",
            "SAR =  4.5386\n",
            "SDR =  4.0650\n",
            "warning: division by zero\n",
            "SIR = Inf\n",
            "SAR =  4.0650\n",
            "Epoch 19 , Loss = 3.229\n"
          ],
          "name": "stdout"
        }
      ]
    },
    {
      "cell_type": "code",
      "metadata": {
        "colab": {
          "base_uri": "https://localhost:8080/"
        },
        "id": "-jCZKXbgmR-N",
        "outputId": "9071a796-8787-42f2-9658-8e04b12cec47"
      },
      "source": [
        "eval_nouv(s1,s2,scaler,scaler,p=1)       \n"
      ],
      "execution_count": 223,
      "outputs": [
        {
          "output_type": "stream",
          "text": [
            "SDR =  4.5386\n",
            "warning: division by zero\n",
            "SIR = Inf\n",
            "SAR =  4.5386\n",
            "SDR =  4.0650\n",
            "warning: division by zero\n",
            "SIR = Inf\n",
            "SAR =  4.0650\n"
          ],
          "name": "stdout"
        }
      ]
    },
    {
      "cell_type": "markdown",
      "metadata": {
        "id": "fub_jAVYJI7M"
      },
      "source": [
        ""
      ]
    },
    {
      "cell_type": "code",
      "metadata": {
        "colab": {
          "base_uri": "https://localhost:8080/"
        },
        "id": "9wMn4cNmJJCN",
        "outputId": "59356db6-b2cc-4b33-8f66-c1cd136e0af9"
      },
      "source": [
        "# In absolute values :\n",
        "\n",
        "PATH = '/content/drive/My Drive/PFE/'\n",
        "\n",
        "speech_estx = np.load(PATH+'s1.npy')\n",
        "music_estx = np.load(PATH+'s2.npy')\n",
        "\n",
        "ux = np.load(PATH+'u.npy')\n",
        "vx= np.load(PATH+'v.npy')\n",
        "speech_estx = scaler_s1.inverse_transform(speech_estx)\n",
        "music_estx = scaler_s2.inverse_transform(music_estx)\n",
        "\n",
        "\n",
        "# Omit negative values\n",
        "speech_estx[speech_estx<0]=0.00001\n",
        "music_estx[music_estx<0]=0.00001\n",
        "\n",
        "speech_est_c,music_est_c=reconstruct(speech_estx,music_estx,ux,vx,Y,1)\n",
        "\n",
        "\n",
        "\n",
        "#Recover ISTFT\n",
        "_, speech_est_sig =  signal.istft(speech_est_c,\n",
        "                      samplerate,\n",
        "                      window = WINDOW,\n",
        "                      nperseg=WINDOW_SIZE,\n",
        "                      noverlap=OVERLAP,\n",
        "                      nfft = NFFT)\n",
        "\n",
        "_, music_est_sig =  signal.istft(music_est_c,\n",
        "                      samplerate,\n",
        "                      window = WINDOW,\n",
        "                      nperseg=WINDOW_SIZE,\n",
        "                      noverlap=OVERLAP,\n",
        "                      nfft = NFFT)\n",
        "\n",
        "\n",
        "speech_est_sig = speech_est_sig[:speech_test.shape[0]]\n",
        "music_est_sig = music_est_sig[:music_test.shape[0]]\n",
        "\n",
        "sdr_speech = SDR(s_est=speech_est_sig,s=speech_test)\n",
        "sdr_music = SDR(s_est=music_est_sig, s=music_test)\n",
        "    \n",
        "print('SDR Speech = {:.2f} ... SDR Music = {:.2f}'.format(sdr_speech,sdr_music))\n",
        "\n",
        "#write(PATH+'tests/SpeechDNN.wav\", samplerate, speech_est_sig.astype(np.int16))\n",
        "#write(PATH+'tests/MusicDNN.wav\", samplerate, music_est_sig.astype(np.int16))"
      ],
      "execution_count": null,
      "outputs": [
        {
          "output_type": "stream",
          "text": [
            "SDR Speech = 2.64 ... SDR Music = 2.64\n"
          ],
          "name": "stdout"
        }
      ]
    },
    {
      "cell_type": "markdown",
      "metadata": {
        "id": "8i2n7xAdjHau"
      },
      "source": [
        "# AutoEncoders :"
      ]
    },
    {
      "cell_type": "markdown",
      "metadata": {
        "id": "gmWX8bHFz9X4"
      },
      "source": [
        "* Input : S1 Estimate of speech.\n",
        "* Output : Y_clean - M * S1."
      ]
    },
    {
      "cell_type": "code",
      "metadata": {
        "id": "yWBkDlP8HtoE"
      },
      "source": [
        "class AEModel(nn.Module):\n",
        "\n",
        "    def __init__(self,d):\n",
        "        super(AEModel, self).__init__()\n",
        "\n",
        "        self.sigmoid = torch.nn.Sigmoid()\n",
        "        self.relu = torch.nn.ReLU()\n",
        "        self.fc1 = nn.Linear(d, 128, bias=True)  # d is dimension of the input.\n",
        "        self.fc2 = nn.Linear(128, 64, bias=True)\n",
        "        self.fc3 = nn.Linear(64, 128, bias=True)\n",
        "        self.fc4 = nn.Linear(128, d, bias=True)\n",
        "\n",
        "        self.fc1_ = nn.Linear(d, 128, bias=True)  # d is dimension of the input.\n",
        "        self.fc2_ = nn.Linear(128, 64, bias=True)\n",
        "        self.fc3_ = nn.Linear(64, 128, bias=True)\n",
        "        self.fc4_ = nn.Linear(128, d, bias=True)\n",
        "       \n",
        "\n",
        "    def forward(self, x1,x2):\n",
        "\n",
        "        x1 = self.relu(x1)\n",
        "        x1 = self.relu(self.fc1(x1))\n",
        "        x1 = self.relu(self.fc2(x1))\n",
        "        x1 = self.relu(self.fc3(x1))\n",
        "        x1 = self.relu(self.fc4(x1))\n",
        "\n",
        "        x2 = self.relu(x2)\n",
        "        x2 = self.relu(self.fc1_(x2))\n",
        "        x2 = self.relu(self.fc2_(x2))\n",
        "        x2 = self.relu(self.fc3_(x2))\n",
        "        x2 = self.relu(self.fc4_(x2))\n",
        "\n",
        "\n",
        "\n",
        "        return x1,x2"
      ],
      "execution_count": null,
      "outputs": []
    },
    {
      "cell_type": "code",
      "metadata": {
        "id": "YkH7xyZYpOH6"
      },
      "source": [
        ""
      ],
      "execution_count": null,
      "outputs": []
    },
    {
      "cell_type": "code",
      "metadata": {
        "id": "JHtgLd-lUjlc"
      },
      "source": [
        "\n",
        "def cost(Yabs,s1,s2,u,v):\n",
        "\n",
        "  loss1 = torch.norm(u*s1 + v*s2 - Yabs,'fro',None)/257\n",
        "  loss2 = torch.norm(s1 - s2 ,'fro',None)\n",
        "\n",
        "  #print(f'Loss1 = {loss1.item()} ... Loss2 = {loss2.item()}')\n",
        "  return loss1\n",
        "\n"
      ],
      "execution_count": null,
      "outputs": []
    },
    {
      "cell_type": "code",
      "metadata": {
        "id": "jwzlPCY6XORJ"
      },
      "source": [
        "params = list(ModelAE.parameters())+[u]+[v]\n",
        "optimizer = SGD(params,lr=0.001)"
      ],
      "execution_count": null,
      "outputs": []
    },
    {
      "cell_type": "code",
      "metadata": {
        "id": "DCWjnw6bKZYD"
      },
      "source": [
        "ModelAE.train()\n",
        "N_epochs = 20\n",
        "\n",
        "for e in range(N_epochs):\n",
        "\n",
        "  loss_e=0.0\n",
        "\n",
        "  for i in tqdm(range(s1.shape[1]),leave=True,position=0):\n",
        "\n",
        "    a,b = ModelAE(s1[:,i],s2[:,i])\n",
        "\n",
        "    optimizer.zero_grad()\n",
        "    \n",
        "    loss1 = cost(Yabs[:,i],a,b,u[i],v[i])\n",
        "    loss1.backward()\n",
        "\n",
        "    optimizer.step()\n",
        "\n",
        "    u.grad.data[:i].fill_(0)\n",
        "    u.grad.data[i+1:].fill_(0)  \n",
        "    v.grad.data[:i].fill_(0)\n",
        "    v.grad.data[i+1:].fill_(0)\n",
        "\n",
        "\n",
        "    loss_e+= loss1.item()\n",
        "\n",
        "  print(\"Epoch {} ... Loss = {}\".format(e,loss_e))\n",
        "\n"
      ],
      "execution_count": null,
      "outputs": []
    },
    {
      "cell_type": "code",
      "metadata": {
        "colab": {
          "base_uri": "https://localhost:8080/"
        },
        "id": "8-qrex16fx7B",
        "outputId": "ce12b44c-e838-4ac4-aa48-949e6100998f"
      },
      "source": [
        "\n",
        "ss1=[]\n",
        "ss2=[]\n",
        "\n",
        "for i in tqdm(range(s1.shape[1]),leave=True,position=0):\n",
        "\n",
        "  a,b = ModelAE(s1[:,i],s2[:,i])\n",
        "  ss1.append(a.cpu().detach().numpy())\n",
        "  ss2.append(b.cpu().detach().numpy())"
      ],
      "execution_count": null,
      "outputs": [
        {
          "output_type": "stream",
          "text": [
            "100%|██████████| 1701/1701 [00:01<00:00, 970.04it/s]\n"
          ],
          "name": "stderr"
        }
      ]
    },
    {
      "cell_type": "code",
      "metadata": {
        "id": "kbt9-gBkvMae"
      },
      "source": [
        "s1_est=np.transpose(np.array(ss1))\n",
        "s2_est=np.transpose(np.array(ss2))\n",
        "\n",
        "s1_est = (u.cpu().detach().numpy()*s1_est)/(u.cpu().detach().numpy()*s1_est+v.cpu().detach().numpy()*s2_est+0.001)"
      ],
      "execution_count": null,
      "outputs": []
    },
    {
      "cell_type": "code",
      "metadata": {
        "id": "aiw5ZJb47GjD"
      },
      "source": [
        "\n",
        "\n",
        "s1_est = s1_est * Y / Yabs.cpu().detach().numpy() \n",
        "s1_est[s1_est==0]=0.0001\n",
        "\n"
      ],
      "execution_count": null,
      "outputs": []
    },
    {
      "cell_type": "code",
      "metadata": {
        "colab": {
          "base_uri": "https://localhost:8080/"
        },
        "id": "9rhcv65llvKU",
        "outputId": "be55568d-515f-4047-a5dd-183192196070"
      },
      "source": [
        "\n",
        "  #Recover ISTFT\n",
        "_, speech_est_sig =  signal.istft(s1_est,\n",
        "                        samplerate,\n",
        "                        window = WINDOW,\n",
        "                        nperseg=WINDOW_SIZE,\n",
        "                        noverlap=OVERLAP,\n",
        "                        nfft = NFFT)\n",
        "\n",
        "sdr_speech = SDR(s_est=speech_est_sig,s=speech_test)\n",
        "print(sdr_speech)"
      ],
      "execution_count": null,
      "outputs": [
        {
          "output_type": "stream",
          "text": [
            "0.00892209308257177\n"
          ],
          "name": "stdout"
        }
      ]
    },
    {
      "cell_type": "markdown",
      "metadata": {
        "id": "K8JtJkT97jEs"
      },
      "source": [
        "# AE FOr the DNN\n"
      ]
    },
    {
      "cell_type": "code",
      "metadata": {
        "id": "uofjTBD47lrs"
      },
      "source": [
        "class AEModel(nn.Module):\n",
        "\n",
        "    def __init__(self,d):\n",
        "        super(AEModel, self).__init__()\n",
        "\n",
        "        self.sigmoid = torch.nn.Sigmoid()\n",
        "        self.relu = torch.nn.ReLU()\n",
        "        self.fc1 = nn.Linear(d, 512, bias=False)  # d is dimension of the input.\n",
        "        self.fc2 = nn.Linear(512, 128, bias=False)\n",
        "        self.fc3 = nn.Linear(128, 64, bias=False)\n",
        "        self.fc4 = nn.Linear(64, 128, bias=False)\n",
        "        self.fc5 = nn.Linear(128, 512, bias=False)\n",
        "        self.fc6 = nn.Linear(512, d, bias=False)\n",
        "\n",
        "\n",
        "    def forward(self, x1):\n",
        "\n",
        "        x1 = self.relu(self.fc1(x1))\n",
        "        x1 = self.relu(self.fc2(x1))\n",
        "        x1 = self.relu(self.fc3(x1))\n",
        "        x1 = self.relu(self.fc4(x1))\n",
        "        x1 = self.relu(self.fc5(x1))\n",
        "        x1 = self.fc6(x1)\n",
        "\n",
        "        return x1\n",
        "\n",
        "def AEcost(x,y):\n",
        "\n",
        "  return torch.norm(x - y,'fro',None)\n"
      ],
      "execution_count": null,
      "outputs": []
    },
    {
      "cell_type": "code",
      "metadata": {
        "id": "fyC9_lIb7mE1"
      },
      "source": [
        "ModelAE = AEModel(257)\n",
        "ModelAE.load_state_dict(torch.load('./AE-DNN-weights-Big.pt',map_location=torch.device('cpu')))\n",
        "\n",
        "N_uterance = 0\n",
        "s1 = abs(np.load(\"Signals/speech_ests.npy\"))[N_uterance]\n",
        "s2 = abs(np.load(\"Signals/music_ests.npy\"))[N_uterance]\n",
        "Yabs = np.load(\"Signals/mix_spectres_abs.npy\")[N_uterance]\n",
        "\n",
        "scaler = MinMaxScaler()\n",
        "scaler.fit(np.transpose(Yabs))\n",
        "\n",
        "s1 = np.transpose(scaler.transform(np.transpose(s1)))\n",
        "s2 = np.transpose(scaler.transform(np.transpose(s2)))\n",
        "\n",
        "\n",
        "s1 = torch.tensor(s1).float()\n",
        "s2 = torch.tensor(s2).float()\n",
        "\n",
        "device = torch.device(\"cuda:0\" if torch.cuda.is_available() else \"cpu\")\n",
        "\n",
        "s1 = s1.to(device)\n",
        "s2 = s2.to(device)\n",
        "\n",
        "\n",
        "\n",
        "ModelAE = ModelAE.to(device)\n"
      ],
      "execution_count": null,
      "outputs": []
    },
    {
      "cell_type": "code",
      "metadata": {
        "id": "pxyrr63mBkAH"
      },
      "source": [
        "params = list(ModelAE.parameters())\n",
        "optimizer = SGD(params,lr=0.002)"
      ],
      "execution_count": null,
      "outputs": []
    },
    {
      "cell_type": "code",
      "metadata": {
        "colab": {
          "base_uri": "https://localhost:8080/"
        },
        "id": "JUkv2S9_7l6q",
        "outputId": "fa306278-7bd1-471e-94be-9fa605c3296c"
      },
      "source": [
        "ModelAE.train()\n",
        "N_epochs = 10\n",
        "\n",
        "for e in range(N_epochs):\n",
        "\n",
        "  loss_e=0.0\n",
        "\n",
        "  i1 = 0\n",
        "  i2 = 0\n",
        "\n",
        "  for i in tqdm(range(2*s1.shape[1]),leave=True,position=0):\n",
        "\n",
        "    optimizer.zero_grad()\n",
        "\n",
        "    if i%2 == 0 :\n",
        "\n",
        "      loss = AEcost(ModelAE(s1[:,i1]),s1[:,i1])\n",
        "      i1 += 1\n",
        "\n",
        "    if i%2 == 1:\n",
        "\n",
        "      loss = AEcost(ModelAE(s1[:,i2]),s1[:,i2])\n",
        "      i2 += 1\n",
        "\n",
        "\n",
        "    loss.backward()\n",
        "    optimizer.step()\n",
        "\n",
        "    loss_e += loss.item()\n",
        "  print('Epoch {} ... Loss = {:.2f}'.format(e,loss_e))\n"
      ],
      "execution_count": null,
      "outputs": [
        {
          "output_type": "stream",
          "text": [
            "100%|██████████| 100002/100002 [02:53<00:00, 577.87it/s]\n",
            "  0%|          | 59/100002 [00:00<02:49, 588.01it/s]"
          ],
          "name": "stderr"
        },
        {
          "output_type": "stream",
          "text": [
            "Epoch 0 ... Loss = 20155.65\n"
          ],
          "name": "stdout"
        },
        {
          "output_type": "stream",
          "text": [
            "100%|██████████| 100002/100002 [02:51<00:00, 583.26it/s]\n",
            "  0%|          | 59/100002 [00:00<02:51, 583.28it/s]"
          ],
          "name": "stderr"
        },
        {
          "output_type": "stream",
          "text": [
            "Epoch 1 ... Loss = 19772.15\n"
          ],
          "name": "stdout"
        },
        {
          "output_type": "stream",
          "text": [
            "100%|██████████| 100002/100002 [02:52<00:00, 580.86it/s]\n",
            "  0%|          | 55/100002 [00:00<03:05, 539.84it/s]"
          ],
          "name": "stderr"
        },
        {
          "output_type": "stream",
          "text": [
            "Epoch 2 ... Loss = 19410.54\n"
          ],
          "name": "stdout"
        },
        {
          "output_type": "stream",
          "text": [
            "100%|██████████| 100002/100002 [02:54<00:00, 573.90it/s]\n",
            "  0%|          | 65/100002 [00:00<02:35, 643.60it/s]"
          ],
          "name": "stderr"
        },
        {
          "output_type": "stream",
          "text": [
            "Epoch 3 ... Loss = 19050.05\n"
          ],
          "name": "stdout"
        },
        {
          "output_type": "stream",
          "text": [
            "100%|██████████| 100002/100002 [02:53<00:00, 574.85it/s]\n",
            "  0%|          | 55/100002 [00:00<03:01, 549.74it/s]"
          ],
          "name": "stderr"
        },
        {
          "output_type": "stream",
          "text": [
            "Epoch 4 ... Loss = 18661.71\n"
          ],
          "name": "stdout"
        },
        {
          "output_type": "stream",
          "text": [
            "100%|██████████| 100002/100002 [02:57<00:00, 563.45it/s]\n",
            "  0%|          | 60/100002 [00:00<02:47, 597.02it/s]"
          ],
          "name": "stderr"
        },
        {
          "output_type": "stream",
          "text": [
            "Epoch 5 ... Loss = 18278.52\n"
          ],
          "name": "stdout"
        },
        {
          "output_type": "stream",
          "text": [
            "100%|██████████| 100002/100002 [03:00<00:00, 553.95it/s]\n",
            "  0%|          | 54/100002 [00:00<03:05, 537.43it/s]"
          ],
          "name": "stderr"
        },
        {
          "output_type": "stream",
          "text": [
            "Epoch 6 ... Loss = 17916.12\n"
          ],
          "name": "stdout"
        },
        {
          "output_type": "stream",
          "text": [
            "100%|██████████| 100002/100002 [02:58<00:00, 558.91it/s]\n",
            "  0%|          | 63/100002 [00:00<02:39, 628.18it/s]"
          ],
          "name": "stderr"
        },
        {
          "output_type": "stream",
          "text": [
            "Epoch 7 ... Loss = 17561.88\n"
          ],
          "name": "stdout"
        },
        {
          "output_type": "stream",
          "text": [
            "100%|██████████| 100002/100002 [02:55<00:00, 570.10it/s]\n",
            "  0%|          | 65/100002 [00:00<02:35, 642.57it/s]"
          ],
          "name": "stderr"
        },
        {
          "output_type": "stream",
          "text": [
            "Epoch 8 ... Loss = 17216.21\n"
          ],
          "name": "stdout"
        },
        {
          "output_type": "stream",
          "text": [
            "100%|██████████| 100002/100002 [02:51<00:00, 583.86it/s]"
          ],
          "name": "stderr"
        },
        {
          "output_type": "stream",
          "text": [
            "Epoch 9 ... Loss = 16888.40\n"
          ],
          "name": "stdout"
        },
        {
          "output_type": "stream",
          "text": [
            "\n"
          ],
          "name": "stderr"
        }
      ]
    },
    {
      "cell_type": "code",
      "metadata": {
        "id": "QhGVS4THSyIh"
      },
      "source": [
        "torch.save(ModelAE.state_dict(), './AE-DNN-weights-Big3.pt')"
      ],
      "execution_count": null,
      "outputs": []
    },
    {
      "cell_type": "markdown",
      "metadata": {
        "id": "zguX-aJHojkk"
      },
      "source": [
        "2.2619"
      ]
    },
    {
      "cell_type": "markdown",
      "metadata": {
        "id": "HjfP32D6YIO-"
      },
      "source": [
        "# Stacked Auto Encoder :"
      ]
    },
    {
      "cell_type": "code",
      "metadata": {
        "id": "0IBIBlXhYL5W"
      },
      "source": [
        "class AEModel(nn.Module):\n",
        "\n",
        "    def __init__(self,d):\n",
        "        super(AEModel, self).__init__()\n",
        "        self.sigmoid = torch.nn.Sigmoid()\n",
        "        self.relu = torch.nn.ReLU()\n",
        "\n",
        "\n",
        "        self.fc1 = nn.LSTM(input_size=d, hidden_size=128, bias=True)  # d is dimension of the input.\n",
        "        self.fc2 = nn.LSTM(input_size=128, hidden_size=64, bias=True)\n",
        "        self.fc3 = nn.LSTM(input_size=64, hidden_size=128, bias=True)\n",
        "        self.fc4 = nn.LSTM(input_size=128, hidden_size=d, bias=True)\n",
        "       \n",
        "\n",
        "    def forward(self, x):\n",
        "\n",
        "        h_t1,_ = self.fc1(x)\n",
        "        h_t2,_ = self.fc2(h_t1)\n",
        "        h_t3,_ = self.fc3(h_t2)\n",
        "        y,_ = self.fc4(h_t3)\n",
        "\n",
        "        return y"
      ],
      "execution_count": null,
      "outputs": []
    },
    {
      "cell_type": "code",
      "metadata": {
        "id": "JiS4pvCCafiz"
      },
      "source": [
        "def create_sequences(data, seq_length,overlap):\n",
        "    xs = []\n",
        "\n",
        "    for i in range(len(data)-seq_length-overlap):\n",
        "        x = data[i:(i+seq_length)]\n",
        "        xs.append(x)\n",
        "\n",
        "    return np.array(xs)\n"
      ],
      "execution_count": null,
      "outputs": []
    },
    {
      "cell_type": "code",
      "metadata": {
        "id": "2wuzJj9xkafs"
      },
      "source": [
        "N_uterance = 0\n",
        "s1 = abs(np.load(\"speech_ests.npy\"))[N_uterance][:,:-1]\n",
        "s2 = abs(np.load(\"music_ests.npy\"))[N_uterance][:,:-1]\n",
        "Yabs = np.load(\"mix_spectres_abs.npy\")[N_uterance][:,:-1]\n",
        "Y = np.load(\"mix_spectres.npy\")[N_uterance][:,:-1]\n",
        "speech_test = np.load(\"speech_list.npy\")[N_uterance]\n",
        "music_test = np.load(\"music_list.npy\")[N_uterance]\n",
        "Y_clean = np.load(\"clean_speech_spectres.npy\")[N_uterance]\n",
        "Y_clean_abs = np.load(\"clean_speech_spectres_abs.npy\")[N_uterance]"
      ],
      "execution_count": null,
      "outputs": []
    },
    {
      "cell_type": "code",
      "metadata": {
        "colab": {
          "base_uri": "https://localhost:8080/"
        },
        "id": "PKAAMf4ynprE",
        "outputId": "e3e466da-6af4-4aaa-95cf-95a310447e90"
      },
      "source": [
        "seq_len = 20\n",
        "N_seq = int(s1.shape[1]/seq_len)\n",
        "\n",
        "s_seq=s.reshape((seq_len,N_seq,514))\n",
        "print(f'Shape of s = {s_seq.shape}')\n",
        "s_seq = torch.tensor(s_seq).float()"
      ],
      "execution_count": null,
      "outputs": [
        {
          "output_type": "stream",
          "text": [
            "Shape of s = (20, 500, 514)\n"
          ],
          "name": "stdout"
        }
      ]
    }
  ]
}