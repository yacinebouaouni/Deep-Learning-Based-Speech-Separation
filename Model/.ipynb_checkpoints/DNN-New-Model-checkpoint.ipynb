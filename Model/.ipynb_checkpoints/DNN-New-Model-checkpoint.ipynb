{
 "cells": [
  {
   "cell_type": "code",
   "execution_count": 1,
   "metadata": {},
   "outputs": [],
   "source": [
    "import torch\n",
    "import numpy as np\n",
    "from scipy.io.wavfile import read, write\n",
    "from scipy import signal\n",
    "from scipy.signal import butter, lfilter, freqz\n",
    "import matplotlib.pyplot as plt\n",
    "import seaborn as sns\n",
    "\n",
    "\n",
    "from Model import Net\n",
    "from boltzman_machine import RBM\n",
    "from Dataloader import AudioDataset\n",
    "from helpers import Reconstruct, Viz_Y\n",
    "\n",
    "\n",
    "from torch.optim import LBFGS, Adam,SGD\n",
    "from sklearn.decomposition import NMF\n",
    "from sklearn.preprocessing import MinMaxScaler\n",
    "import warnings \n",
    "\n",
    "import tqdm\n",
    "from helpers2 import *\n",
    "warnings.simplefilter('ignore')"
   ]
  },
  {
   "cell_type": "code",
   "execution_count": 2,
   "metadata": {},
   "outputs": [],
   "source": [
    "def gain_params(s1,s2,y):\n",
    "\n",
    "        l2_s1 = torch.norm(s1.float(),2, None)\n",
    "                 \n",
    "        l2_s2 = torch.norm(s2.float(),2, None)\n",
    "               \n",
    "        l2_Y = torch.norm(y.float(),2, None)\n",
    "              \n",
    "        # u is initialized by the l2-norm of the initial NMF source estimate sˆ1 \n",
    "        # divided by the l2-norm of the mixed signal y\n",
    "        u = torch.div(l2_s1, l2_Y) \n",
    "\n",
    "        # v is initialized by the same manner\n",
    "        v = torch.div(l2_s2, l2_Y)\n",
    "\n",
    "        return u,v\n",
    "    \n",
    "def gain_params_vec(s1,s2,y):\n",
    "\n",
    "        l2_s1 = torch.norm(s1.float().t(),2, True)\n",
    "                 \n",
    "        l2_s2 = torch.norm(s2.float().t(),2, True)\n",
    "               \n",
    "        l2_Y = torch.norm(y.float().t(),2, True)\n",
    "              \n",
    "        # u is initialized by the l2-norm of the initial NMF source estimate sˆ1 \n",
    "        # divided by the l2-norm of the mixed signal y\n",
    "        u = torch.div(l2_s1, l2_Y) \n",
    "\n",
    "        # v is initialized by the same manner\n",
    "        v = torch.div(l2_s2, l2_Y)\n",
    "\n",
    "        return u,v\n",
    "    \n",
    "    \n",
    "def feed_(x):\n",
    "    \n",
    "    f = model(x)\n",
    "    f1 = f[0] \n",
    "    f2 = f[1]\n",
    "    return f1,f2\n",
    "\n",
    "def energy_1(x_source1):\n",
    "    \n",
    "    f1,f2 = feed_(x_source1)\n",
    "    e1 = (1 - f1 ).pow(2) + f2.pow(2)\n",
    "    return e1 \n",
    "\n",
    "def energy_2(x_source2):\n",
    "\n",
    "    f1,f2 = feed_(x_source2)\n",
    "    e2 = f1.pow(2) + (1 - f2 ).pow(2) \n",
    "    return e2\n",
    "\n",
    "def E_err(s1,s2,y):\n",
    "  \n",
    "    u,v = gain_params_vec(s1,s2,y) \n",
    "    return torch.norm(torch.mul(u,s1) + torch.mul(v,s2) - y,'fro',None)\n",
    "\n",
    "def E_err_vec(s1,s2,y,u,v):\n",
    "  \n",
    "    return torch.norm(u*s1 + v*s2 - y,'fro',None)\n",
    "\n",
    "\n",
    "def relu(x):\n",
    "    return torch.nn.ReLU()(x)\n",
    "\n",
    "def nonnegative_constraint(s1,s2,y,u,v):  \n",
    "    \n",
    "    u_sum  = torch.sum(relu(u))\n",
    "    v_sum  = torch.sum(relu(v))\n",
    "    x1_sum = torch.sum(relu(s1))\n",
    "    x2_sum = torch.sum(relu(s2))\n",
    "    total_sum = 1 / (u_sum + v_sum + x1_sum + x2_sum)    #vector containing all the unknowns which must all be nonnegative\n",
    "\n",
    "    return total_sum \n",
    "\n",
    "\n",
    "def nonneg_constraint(s1,s2,u,v):\n",
    "    \n",
    "    R=min([s1.min().item(),s2.min().item(),u,v,0])\n",
    "    \n",
    "    return R**2\n",
    "\n",
    "\n",
    "def nonneg_constraint_sum(s1,s2,u,v):\n",
    "    \n",
    "    Rs1=min([s1.min().item(),0])**2\n",
    "    Rs2=min([s2.min().item(),0])**2\n",
    "    Ru=min([u,0])**2\n",
    "    Rv=min([v,0])**2\n",
    "    \n",
    "    return Rs1+Rs2+Ru+Rv"
   ]
  },
  {
   "cell_type": "markdown",
   "metadata": {},
   "source": [
    "# 1.Read audio file:"
   ]
  },
  {
   "cell_type": "code",
   "execution_count": 3,
   "metadata": {},
   "outputs": [
    {
     "name": "stdout",
     "output_type": "stream",
     "text": [
      "Shape of the test 80000 ... Length : 5.00s ... Sample rate : 16000\n",
      "Downsampled rate = 16000\n"
     ]
    }
   ],
   "source": [
    "samplerate_s, data_speech = read(\"../../DATA/vocal_11.wav\")\n",
    "samplerate_m, data_music = read(\"../../DATA/piano_10.wav\")\n",
    "\n",
    "rate = samplerate_s / 16000\n",
    "\n",
    "\n",
    "fs = 16000\n",
    "start = 9 * 60 * fs + 40 * fs\n",
    "end = 10 * 60 * fs + 10 * fs\n",
    "\n",
    "start = 580 * 44100\n",
    "end = 585 * 44100\n",
    "\n",
    "speech_t=data_speech[start : end,0]\n",
    "music_t = data_music[start:end, 0]\n",
    "\n",
    "\n",
    "speech_t = signal.resample(speech_t,int(speech_t.shape[0]/rate))\n",
    "music_t = signal.resample(music_t,int(music_t.shape[0]/rate))\n",
    "samplerate=int(samplerate_m/rate)\n",
    "length=music_t.shape[0]/samplerate\n",
    "\n",
    "print('Shape of the test {} ... Length : {:.2f}s ... Sample rate : {}'.format(music_t.shape[0],length,samplerate))\n",
    "print('Downsampled rate = {}'.format(samplerate))\n",
    "\n",
    "\n",
    "def butter_lowpass(cutoff, fs, order=5):\n",
    "    nyq = 0.5 * fs\n",
    "    normal_cutoff = cutoff / nyq\n",
    "    b, a = butter(order, normal_cutoff, btype='low', analog=False)\n",
    "    return b, a\n",
    "\n",
    "def butter_lowpass_filter(data, cutoff, fs, order=5):\n",
    "    b, a = butter_lowpass(cutoff, fs, order=order)\n",
    "    y = lfilter(b, a, data)\n",
    "    return y\n",
    "\n",
    "\n",
    "music_t = butter_lowpass_filter(music_t,4000,fs)\n",
    "speech_t = butter_lowpass_filter(speech_t,4000,fs)"
   ]
  },
  {
   "cell_type": "code",
   "execution_count": 4,
   "metadata": {},
   "outputs": [
    {
     "name": "stdout",
     "output_type": "stream",
     "text": [
      "SMR = 0.00\n"
     ]
    }
   ],
   "source": [
    "SMR_db = 0\n",
    "test,speech_test,music_test=get_mixed_signal(speech_t,music_t,SMR_db)\n",
    "\n",
    "WINDOW = 'barthann'\n",
    "WINDOW_SIZE=480\n",
    "OVERLAP = 0.8 * WINDOW_SIZE\n",
    "NFFT=512\n",
    "\n",
    "f,t,Y= signal.stft(test,samplerate,window=WINDOW,nperseg=WINDOW_SIZE,noverlap=OVERLAP,nfft=NFFT)\n",
    "Yabs_t=np.abs(Y)\n",
    "\n",
    "Yabs_t[Yabs_t==0]=0.00001\n"
   ]
  },
  {
   "cell_type": "code",
   "execution_count": 5,
   "metadata": {},
   "outputs": [
    {
     "name": "stdout",
     "output_type": "stream",
     "text": [
      "Testing NMF .... Done\n",
      "Reconstruction Step .... Done\n",
      "SDR Speech = 2.49 ... SDR Music = 2.49\n"
     ]
    }
   ],
   "source": [
    "B = np.load('../NMF/B.npy')\n",
    "Ns = 10\n",
    "Nm = 10\n",
    "p = 3\n",
    "\n",
    "\n",
    "model_test = NMF(n_components=Ns+Nm, init='nndsvd',alpha=0.2,beta_loss='itakura-saito',solver=\"mu\",max_iter=200, random_state=7)\n",
    "model_test.fit(np.transpose(Yabs_t))\n",
    "\n",
    "model_test.components_=B\n",
    "G_test=model_test.transform(np.transpose(Yabs_t))\n",
    "\n",
    "print('Testing NMF .... Done')\n",
    "Sources,Masks=Reconstruct(B=np.transpose(B),G=np.transpose(G_test),Ns=Ns,Nm=Nm,Yabs=Y,p=p)\n",
    "\n",
    "print('Reconstruction Step .... Done')\n",
    "speech_est = Sources[0]\n",
    "music_est = Sources[1]\n",
    "\n",
    "_, speech_est =  signal.istft(speech_est,\n",
    "                      samplerate,\n",
    "                      window = WINDOW,\n",
    "                      nperseg=WINDOW_SIZE,\n",
    "                      noverlap=OVERLAP,\n",
    "                      nfft = NFFT)\n",
    "\n",
    "_, music_est =  signal.istft(music_est,\n",
    "                      samplerate,\n",
    "                      window = WINDOW,\n",
    "                      nperseg=WINDOW_SIZE,\n",
    "                      noverlap=OVERLAP,\n",
    "                      nfft = NFFT)\n",
    "\n",
    "speech_est = speech_est[:speech_test.shape[0]]\n",
    "music_est = music_est[:music_test.shape[0]]\n",
    "\n",
    "sdr_speech = SDR(s_est=speech_est,s=speech_test)\n",
    "sdr_music = SDR(s_est=music_est, s=music_test)\n",
    "\n",
    "print('SDR Speech = {:.2f} ... SDR Music = {:.2f}'.format(sdr_speech,sdr_music))\n",
    "\n",
    "write(\"../../Tests/SpeechX.wav\", samplerate, speech_est.astype(np.int16))\n",
    "write(\"../../Tests/MusicX.wav\", samplerate, music_est.astype(np.int16))\n"
   ]
  },
  {
   "cell_type": "markdown",
   "metadata": {},
   "source": [
    " # Learning Loop :"
   ]
  },
  {
   "cell_type": "markdown",
   "metadata": {},
   "source": [
    "* Define optimizer with all parameters W , x1 , x2 , u , v\n",
    "* Dataloader gives a batch that we loop accross\n",
    "* For each sample we feed the network with X1 and then we get f1 \n",
    "* We feed with X2 and we get f2\n",
    "* We compute u and v using the function.\n",
    "* We compute the total loss.\n",
    "* Loss.back()\n",
    "* Optimizer step "
   ]
  },
  {
   "cell_type": "markdown",
   "metadata": {},
   "source": [
    "# 5.Train the DNN :"
   ]
  },
  {
   "cell_type": "markdown",
   "metadata": {},
   "source": [
    "## 5.1.Compute the initial  estimates of u and v : y = u * s1 + v * s2"
   ]
  },
  {
   "cell_type": "code",
   "execution_count": 6,
   "metadata": {},
   "outputs": [],
   "source": [
    "Yabs = Yabs_t\n",
    "s1 = abs(Sources[0])\n",
    "s2 = abs(Sources[1])\n",
    "Yabs = torch.tensor(Yabs)\n",
    "\n",
    "scaler_s1 = MinMaxScaler()\n",
    "scaler_s2 = MinMaxScaler()\n",
    "scaler_y = MinMaxScaler()\n",
    "\n",
    "s1 = scaler_s1.fit_transform(s1)\n",
    "s2 = scaler_s2.fit_transform(s2)\n",
    "Yabs = scaler_y.fit_transform(Yabs)\n",
    "\n",
    "s1 = torch.tensor(s1)\n",
    "s2 = torch.tensor(s2)\n",
    "Yabs = torch.tensor(Yabs)\n",
    "u,v = gain_params_vec(s1, s2, Yabs)\n",
    "\n",
    "u0 = u ; v0 = v\n",
    "\n",
    "u00 = u0.detach().numpy()\n",
    "v00 = v0.detach().numpy()"
   ]
  },
  {
   "cell_type": "code",
   "execution_count": null,
   "metadata": {},
   "outputs": [],
   "source": [
    "print('The number of Max = {}'.format(scaler_y.data_max_.shape[0]))"
   ]
  },
  {
   "cell_type": "markdown",
   "metadata": {},
   "source": [
    "### Visualize initial distribution :"
   ]
  },
  {
   "cell_type": "code",
   "execution_count": 7,
   "metadata": {},
   "outputs": [
    {
     "data": {
      "text/plain": [
       "<matplotlib.axes._subplots.AxesSubplot at 0x2f799e22da0>"
      ]
     },
     "execution_count": 7,
     "metadata": {},
     "output_type": "execute_result"
    },
    {
     "data": {
      "image/png": "[encoded data removed]",
      "text/plain": [
       "<Figure size 1440x504 with 1 Axes>"
      ]
     },
     "metadata": {},
     "output_type": "display_data"
    }
   ],
   "source": [
    "sns.set_style('darkgrid')\n",
    "fig,ax=plt.subplots(1,1,figsize=(20,7))\n",
    "sns.distplot(Yabs.detach().numpy(),hist=False,ax=ax)\n",
    "sns.distplot((u0*s1+v0*s2).detach().numpy(), hist = False,ax=ax)"
   ]
  },
  {
   "cell_type": "markdown",
   "metadata": {},
   "source": [
    "## 5.2.Set the require grads to true:\n"
   ]
  },
  {
   "cell_type": "code",
   "execution_count": 8,
   "metadata": {},
   "outputs": [],
   "source": [
    "s1.requires_grad = True\n",
    "s2.requires_grad = True\n",
    "u.requires_grad = True\n",
    "v.requires_grad = True\n",
    "Yabs.requires_grad = False"
   ]
  },
  {
   "cell_type": "markdown",
   "metadata": {},
   "source": [
    "## 5.3.Instantiation of the model with pretrained wheights of RBM:"
   ]
  },
  {
   "cell_type": "code",
   "execution_count": 9,
   "metadata": {},
   "outputs": [
    {
     "name": "stdout",
     "output_type": "stream",
     "text": [
      "Net(\n",
      "  (sigmoid): Sigmoid()\n",
      "  (fc1): Linear(in_features=257, out_features=100, bias=True)\n",
      "  (fc2): Linear(in_features=100, out_features=50, bias=True)\n",
      "  (fc3): Linear(in_features=50, out_features=200, bias=True)\n",
      "  (fc4): Linear(in_features=200, out_features=2, bias=True)\n",
      ")\n"
     ]
    }
   ],
   "source": [
    "model = Net(257)\n",
    "\n",
    "model_1 = RBM(257,100)\n",
    "model_1.load_state_dict(torch.load(\"../RBM/pretraining/w_layer_1\"))\n",
    "model_2 = RBM(100,50)\n",
    "model_2.load_state_dict(torch.load(\"../RBM/pretraining/w_layer_2\"))\n",
    "model_3 = RBM(50,200)\n",
    "model_3.load_state_dict(torch.load(\"../RBM/pretraining/w_layer_3\"))\n",
    "\n",
    "\n",
    "with torch.no_grad():\n",
    "    model.fc1.weight = model_1.feed.weight\n",
    "    model.fc2.weight = model_2.feed.weight\n",
    "    model.fc3.weight = model_3.feed.weight\n",
    "print(model)\n"
   ]
  },
  {
   "cell_type": "markdown",
   "metadata": {},
   "source": [
    "## 5.4. Define loss function :"
   ]
  },
  {
   "cell_type": "markdown",
   "metadata": {},
   "source": [
    "$$E_{1}(\\boldsymbol{x})=\\left(1-f_{1}(\\boldsymbol{x})\\right)^{2}+\\left(f_{2}(\\boldsymbol{x})\\right)^{2}$$ \\\\\n",
    "$$E_{2}(\\boldsymbol{x})=\\left(f_{1}(\\boldsymbol{x})\\right)^{2}+\\left(1-f_{2}(\\boldsymbol{x})\\right)^{2}$$\n"
   ]
  },
  {
   "cell_type": "markdown",
   "metadata": {},
   "source": [
    "$$E_{e r r}\\left(\\boldsymbol{x}_{1}, \\boldsymbol{x}_{2}, \\boldsymbol{y}, u, v\\right)=\\left\\|u \\boldsymbol{x}_{1}+v \\boldsymbol{x}_{2}-\\boldsymbol{y}\\right\\|^{2}$$"
   ]
  },
  {
   "cell_type": "markdown",
   "metadata": {},
   "source": [
    "Let's consider $\\boldsymbol{\\theta}=\\left(\\boldsymbol{x}_{1}, \\boldsymbol{x}_{2}, u, v\\right)=\\left[\\theta_{1}, \\theta_{2}, \\ldots, \\theta_{n}\\right]$  a vector containing all the unknowns which must all be nonnegative.\n",
    "\n",
    "$$R(\\theta)=(\\min (\\theta, 0))^{2}$$"
   ]
  },
  {
   "cell_type": "markdown",
   "metadata": {},
   "source": [
    "$$\\begin{aligned} E\\left(\\boldsymbol{x}_{1}, \\boldsymbol{x}_{2}, \\boldsymbol{y}, u, v\\right) &=E_{1}\\left(\\boldsymbol{x}_{1}\\right)+E_{2}\\left(\\boldsymbol{x}_{2}\\right)+\\lambda E_{e r r}\\left(\\boldsymbol{x}_{1}, \\boldsymbol{x}_{2}, \\boldsymbol{y}, u, v\\right)  + \\beta \\sum_{i} R\\left(\\theta_{i}\\right) \\end{aligned}$$"
   ]
  },
  {
   "cell_type": "code",
   "execution_count": 10,
   "metadata": {},
   "outputs": [],
   "source": [
    "def Criteria(s1,s2,Yabs,u,v,i,lambd,beta) :\n",
    "    \n",
    "    # Feed forward and get energy 1 and 2\n",
    "    e1 = energy_1(s1[:,i].float())\n",
    "    e2 = energy_2(s2[:,i].float())\n",
    "    \n",
    "    # Get least square error :\n",
    "    e_rr=E_err_vec(s1[:,i], s2[:,i], Yabs[:,i],u[i],v[i])\n",
    "    \n",
    "    # Non negative constraint\n",
    "    R = nonneg_constraint_sum(s1[:,i], s2[:,i], u[i], v[i])\n",
    "    \n",
    "    # Compute total Loss :\n",
    "    \n",
    "    #print(f'E1 = {e1:.2f} ... E2 = {e2:.2f} ... Err = {e_rr:.2f} ... R = {R:.2f} \\n')\n",
    "    \n",
    "    return e1 + e2 + lambd*e_rr + beta*R\n",
    "    "
   ]
  },
  {
   "cell_type": "markdown",
   "metadata": {},
   "source": [
    "## 5.5 LBFGS code (slow):"
   ]
  },
  {
   "cell_type": "markdown",
   "metadata": {},
   "source": [
    "params = list(model.parameters())+[s1]+[s2]+[u]+[v] \n",
    "optimizer= LBFGS(params, lr=0.1, max_iter=20, tolerance_grad=1e-07)\n",
    "model.train()\n",
    "for i in range(s1.shape[1]):\n",
    "    \n",
    "    def closure():\n",
    "        optimizer.zero_grad()\n",
    "        loss = Criteria(s1,s2,Yabs,u,v,i)\n",
    "        loss.backward()\n",
    "        return loss\n",
    "        \n",
    "        \n",
    "    print('step i= {}'.format(i))\n",
    "    optimizer.step(closure)"
   ]
  },
  {
   "cell_type": "markdown",
   "metadata": {},
   "source": [
    "## 5.6. Define optimizer and the parameters to optimize : s1 s2 u v and network parameters:"
   ]
  },
  {
   "cell_type": "code",
   "execution_count": 18,
   "metadata": {},
   "outputs": [],
   "source": [
    "params = list(model.parameters())+[s1]+[s2]+[u]+[v] \n",
    "optimizer= SGD(params, lr=0.001)"
   ]
  },
  {
   "cell_type": "markdown",
   "metadata": {},
   "source": [
    "## 5.7.Train the model:"
   ]
  },
  {
   "cell_type": "code",
   "execution_count": 19,
   "metadata": {},
   "outputs": [
    {
     "name": "stderr",
     "output_type": "stream",
     "text": [
      "100%|████████████████████████████████████████████████████████████████████████████████| 835/835 [00:24<00:00, 34.27it/s]\n",
      "  0%|▍                                                                                 | 4/835 [00:00<00:25, 32.01it/s]"
     ]
    },
    {
     "name": "stdout",
     "output_type": "stream",
     "text": [
      "Epoch 0 , Loss = 0.03\n"
     ]
    },
    {
     "name": "stderr",
     "output_type": "stream",
     "text": [
      " 26%|████████████████████▊                                                           | 217/835 [00:07<00:20, 30.32it/s]\n"
     ]
    },
    {
     "ename": "KeyboardInterrupt",
     "evalue": "",
     "output_type": "error",
     "traceback": [
      "\u001b[1;31m---------------------------------------------------------------------------\u001b[0m",
      "\u001b[1;31mKeyboardInterrupt\u001b[0m                         Traceback (most recent call last)",
      "\u001b[1;32m<ipython-input-19-8c1dc258142a>\u001b[0m in \u001b[0;36m<module>\u001b[1;34m\u001b[0m\n\u001b[0;32m      8\u001b[0m             \u001b[0moptimizer\u001b[0m\u001b[1;33m.\u001b[0m\u001b[0mzero_grad\u001b[0m\u001b[1;33m(\u001b[0m\u001b[1;33m)\u001b[0m\u001b[1;33m\u001b[0m\u001b[1;33m\u001b[0m\u001b[0m\n\u001b[0;32m      9\u001b[0m             \u001b[0mloss\u001b[0m \u001b[1;33m=\u001b[0m \u001b[0mCriteria\u001b[0m\u001b[1;33m(\u001b[0m\u001b[0ms1\u001b[0m\u001b[1;33m,\u001b[0m\u001b[0ms2\u001b[0m\u001b[1;33m,\u001b[0m\u001b[0mYabs\u001b[0m\u001b[1;33m,\u001b[0m\u001b[0mu\u001b[0m\u001b[1;33m,\u001b[0m\u001b[0mv\u001b[0m\u001b[1;33m,\u001b[0m\u001b[0mi\u001b[0m\u001b[1;33m,\u001b[0m\u001b[1;36m1\u001b[0m\u001b[1;33m,\u001b[0m\u001b[1;36m1\u001b[0m\u001b[1;33m)\u001b[0m\u001b[1;33m\u001b[0m\u001b[1;33m\u001b[0m\u001b[0m\n\u001b[1;32m---> 10\u001b[1;33m             \u001b[0mloss\u001b[0m\u001b[1;33m.\u001b[0m\u001b[0mbackward\u001b[0m\u001b[1;33m(\u001b[0m\u001b[1;33m)\u001b[0m\u001b[1;33m\u001b[0m\u001b[1;33m\u001b[0m\u001b[0m\n\u001b[0m\u001b[0;32m     11\u001b[0m             \u001b[1;31m# fill zeros into the first row of grad\u001b[0m\u001b[1;33m\u001b[0m\u001b[1;33m\u001b[0m\u001b[1;33m\u001b[0m\u001b[0m\n\u001b[0;32m     12\u001b[0m             \u001b[0mu\u001b[0m\u001b[1;33m.\u001b[0m\u001b[0mgrad\u001b[0m\u001b[1;33m.\u001b[0m\u001b[0mdata\u001b[0m\u001b[1;33m[\u001b[0m\u001b[1;33m:\u001b[0m\u001b[0mi\u001b[0m\u001b[1;33m]\u001b[0m\u001b[1;33m.\u001b[0m\u001b[0mfill_\u001b[0m\u001b[1;33m(\u001b[0m\u001b[1;36m0\u001b[0m\u001b[1;33m)\u001b[0m\u001b[1;33m\u001b[0m\u001b[1;33m\u001b[0m\u001b[0m\n",
      "\u001b[1;32m~\\Anaconda3\\lib\\site-packages\\torch\\tensor.py\u001b[0m in \u001b[0;36mbackward\u001b[1;34m(self, gradient, retain_graph, create_graph, inputs)\u001b[0m\n\u001b[0;32m    243\u001b[0m                 \u001b[0mcreate_graph\u001b[0m\u001b[1;33m=\u001b[0m\u001b[0mcreate_graph\u001b[0m\u001b[1;33m,\u001b[0m\u001b[1;33m\u001b[0m\u001b[1;33m\u001b[0m\u001b[0m\n\u001b[0;32m    244\u001b[0m                 inputs=inputs)\n\u001b[1;32m--> 245\u001b[1;33m         \u001b[0mtorch\u001b[0m\u001b[1;33m.\u001b[0m\u001b[0mautograd\u001b[0m\u001b[1;33m.\u001b[0m\u001b[0mbackward\u001b[0m\u001b[1;33m(\u001b[0m\u001b[0mself\u001b[0m\u001b[1;33m,\u001b[0m \u001b[0mgradient\u001b[0m\u001b[1;33m,\u001b[0m \u001b[0mretain_graph\u001b[0m\u001b[1;33m,\u001b[0m \u001b[0mcreate_graph\u001b[0m\u001b[1;33m,\u001b[0m \u001b[0minputs\u001b[0m\u001b[1;33m=\u001b[0m\u001b[0minputs\u001b[0m\u001b[1;33m)\u001b[0m\u001b[1;33m\u001b[0m\u001b[1;33m\u001b[0m\u001b[0m\n\u001b[0m\u001b[0;32m    246\u001b[0m \u001b[1;33m\u001b[0m\u001b[0m\n\u001b[0;32m    247\u001b[0m     \u001b[1;32mdef\u001b[0m \u001b[0mregister_hook\u001b[0m\u001b[1;33m(\u001b[0m\u001b[0mself\u001b[0m\u001b[1;33m,\u001b[0m \u001b[0mhook\u001b[0m\u001b[1;33m)\u001b[0m\u001b[1;33m:\u001b[0m\u001b[1;33m\u001b[0m\u001b[1;33m\u001b[0m\u001b[0m\n",
      "\u001b[1;32m~\\Anaconda3\\lib\\site-packages\\torch\\autograd\\__init__.py\u001b[0m in \u001b[0;36mbackward\u001b[1;34m(tensors, grad_tensors, retain_graph, create_graph, grad_variables, inputs)\u001b[0m\n\u001b[0;32m    145\u001b[0m     Variable._execution_engine.run_backward(\n\u001b[0;32m    146\u001b[0m         \u001b[0mtensors\u001b[0m\u001b[1;33m,\u001b[0m \u001b[0mgrad_tensors_\u001b[0m\u001b[1;33m,\u001b[0m \u001b[0mretain_graph\u001b[0m\u001b[1;33m,\u001b[0m \u001b[0mcreate_graph\u001b[0m\u001b[1;33m,\u001b[0m \u001b[0minputs\u001b[0m\u001b[1;33m,\u001b[0m\u001b[1;33m\u001b[0m\u001b[1;33m\u001b[0m\u001b[0m\n\u001b[1;32m--> 147\u001b[1;33m         allow_unreachable=True, accumulate_grad=True)  # allow_unreachable flag\n\u001b[0m\u001b[0;32m    148\u001b[0m \u001b[1;33m\u001b[0m\u001b[0m\n\u001b[0;32m    149\u001b[0m \u001b[1;33m\u001b[0m\u001b[0m\n",
      "\u001b[1;31mKeyboardInterrupt\u001b[0m: "
     ]
    }
   ],
   "source": [
    "model.train()\n",
    "N_epochs = 10\n",
    "for e in range(N_epochs):\n",
    "    \n",
    "    loss_e=0.0\n",
    "    for i in tqdm.tqdm(range(s1.shape[1]),leave=True,position=0):\n",
    "\n",
    "            optimizer.zero_grad()\n",
    "            loss = Criteria(s1,s2,Yabs,u,v,i,1,1)\n",
    "            loss.backward()\n",
    "            # fill zeros into the first row of grad\n",
    "            u.grad.data[:i].fill_(0)\n",
    "            u.grad.data[i+1:].fill_(0)\n",
    "            \n",
    "            v.grad.data[:i].fill_(0)\n",
    "            v.grad.data[i+1:].fill_(0)\n",
    "            s1.grad.data[:,:i].fill_(0)\n",
    "            s1.grad.data[:,i+1:].fill_(0)\n",
    "            s2.grad.data[:,:i].fill_(0)\n",
    "            s2.grad.data[:,i+1:].fill_(0)\n",
    "\n",
    "\n",
    "\n",
    "            optimizer.step()\n",
    "            loss_e+=loss\n",
    "            \n",
    "    print('Epoch {} , Loss = {:.2f}'.format(e,loss_e/s1.shape[1]))"
   ]
  },
  {
   "cell_type": "code",
   "execution_count": 20,
   "metadata": {},
   "outputs": [],
   "source": [
    "PATH='model_dict2.pt'\n",
    "torch.save(model.state_dict(), PATH)"
   ]
  },
  {
   "cell_type": "code",
   "execution_count": 21,
   "metadata": {},
   "outputs": [],
   "source": [
    "np.save('s11',s1.detach().numpy())\n",
    "np.save('s22',s2.detach().numpy())\n"
   ]
  },
  {
   "cell_type": "code",
   "execution_count": 22,
   "metadata": {},
   "outputs": [],
   "source": [
    "np.save('u2',u.detach().numpy())\n",
    "np.save('v2',v.detach().numpy())"
   ]
  },
  {
   "cell_type": "markdown",
   "metadata": {},
   "source": [
    "# 6.Check the results:"
   ]
  },
  {
   "cell_type": "markdown",
   "metadata": {},
   "source": [
    "## 6.1.Check that all values are positive:"
   ]
  },
  {
   "cell_type": "code",
   "execution_count": 23,
   "metadata": {},
   "outputs": [
    {
     "name": "stdout",
     "output_type": "stream",
     "text": [
      "Min of s1 -0.1732\n",
      "Min of s2 -0.2325\n",
      "Min of U 0.3339\n",
      "Min of V 0.2209\n"
     ]
    }
   ],
   "source": [
    "print('Min of s1 {:.4f}'.format(s1.min()))\n",
    "print('Min of s2 {:.4f}'.format(s2.min()))\n",
    "print('Min of U {:.4f}'.format(u.min()))\n",
    "print('Min of V {:.4f}'.format(v.min()))"
   ]
  },
  {
   "cell_type": "markdown",
   "metadata": {},
   "source": [
    "## 6.2.Check the distribution :"
   ]
  },
  {
   "cell_type": "code",
   "execution_count": 24,
   "metadata": {},
   "outputs": [
    {
     "data": {
      "text/plain": [
       "<matplotlib.axes._subplots.AxesSubplot at 0x2f7b420ebe0>"
      ]
     },
     "execution_count": 24,
     "metadata": {},
     "output_type": "execute_result"
    },
    {
     "data": {
      "image/png": "[encoded data removed]",
      "text/plain": [
       "<Figure size 1440x504 with 1 Axes>"
      ]
     },
     "metadata": {},
     "output_type": "display_data"
    }
   ],
   "source": [
    "plt.figure(figsize=(20,7))\n",
    "sns.distplot(Yabs.detach().numpy(),hist=False)\n",
    "sns.distplot((u*s1+v*s2).detach().numpy(), hist = False)"
   ]
  },
  {
   "cell_type": "markdown",
   "metadata": {},
   "source": [
    "## 6.3. Check the L2 loss:"
   ]
  },
  {
   "cell_type": "code",
   "execution_count": 25,
   "metadata": {},
   "outputs": [
    {
     "name": "stdout",
     "output_type": "stream",
     "text": [
      "L2 loss = 0.7161318835282391\n"
     ]
    }
   ],
   "source": [
    "print('L2 loss = {}'.format(torch.norm(torch.tensor(u00)*s1 + torch.tensor(v00)*s2 - Yabs,'fro',None)))"
   ]
  },
  {
   "cell_type": "code",
   "execution_count": 26,
   "metadata": {},
   "outputs": [
    {
     "name": "stdout",
     "output_type": "stream",
     "text": [
      "L2 loss = 0.7161318835282391\n"
     ]
    }
   ],
   "source": [
    "print('L2 loss = {}'.format(torch.norm(u*s1 + v*s2 - Yabs,'fro',None)))"
   ]
  },
  {
   "cell_type": "code",
   "execution_count": null,
   "metadata": {},
   "outputs": [],
   "source": []
  },
  {
   "cell_type": "markdown",
   "metadata": {},
   "source": [
    "# Load Model:"
   ]
  },
  {
   "cell_type": "code",
   "execution_count": null,
   "metadata": {},
   "outputs": [],
   "source": [
    "model = Net(d=257)\n",
    "model.load_state_dict(torch.load(PATH))"
   ]
  },
  {
   "cell_type": "markdown",
   "metadata": {},
   "source": [
    "# Evaluate Model:"
   ]
  },
  {
   "cell_type": "code",
   "execution_count": 27,
   "metadata": {},
   "outputs": [],
   "source": [
    "def reconstruct(est1,est2,u,v,Y,p):\n",
    "    \n",
    "    speech_num = (u * est1)**p\n",
    "    music_num = (v * est2)**p\n",
    "    den = (u * est1)**p + (v * est2)**p\n",
    "    \n",
    "    speech_est = (speech_num/den)*Y\n",
    "    music_est = (music_num/den)*Y\n",
    "    \n",
    "    return speech_est,music_est\n",
    "    "
   ]
  },
  {
   "cell_type": "code",
   "execution_count": null,
   "metadata": {},
   "outputs": [],
   "source": [
    "speech_est_c.min()"
   ]
  },
  {
   "cell_type": "code",
   "execution_count": 33,
   "metadata": {},
   "outputs": [
    {
     "name": "stdout",
     "output_type": "stream",
     "text": [
      "SDR Speech = 2.40 ... SDR Music = 2.40\n"
     ]
    }
   ],
   "source": [
    "# In absolute values :\n",
    "\n",
    "\n",
    "speech_est = np.load('s11.npy')\n",
    "music_est = np.load('s22.npy')\n",
    "\n",
    "u = np.load('u2.npy')\n",
    "v= np.load('v2.npy')\n",
    "speech_est = scaler_s1.inverse_transform(speech_est)\n",
    "music_est = scaler_s2.inverse_transform(music_est)\n",
    "\n",
    "\n",
    "# Omit negative values\n",
    "speech_est[speech_est<0]=0.00001\n",
    "music_est[music_est<0]=0.00001\n",
    "\n",
    "speech_est_c,music_est_c=reconstruct(speech_est,music_est,u,v,Y,1)\n",
    "\n",
    "\n",
    "\n",
    "#Recover ISTFT\n",
    "_, speech_est_sig =  signal.istft(speech_est_c,\n",
    "                      samplerate,\n",
    "                      window = WINDOW,\n",
    "                      nperseg=WINDOW_SIZE,\n",
    "                      noverlap=OVERLAP,\n",
    "                      nfft = NFFT)\n",
    "\n",
    "_, music_est_sig =  signal.istft(music_est_c,\n",
    "                      samplerate,\n",
    "                      window = WINDOW,\n",
    "                      nperseg=WINDOW_SIZE,\n",
    "                      noverlap=OVERLAP,\n",
    "                      nfft = NFFT)\n",
    "\n",
    "\n",
    "speech_est_sig = speech_est_sig[:speech_test.shape[0]]\n",
    "music_est_sig = music_est_sig[:music_test.shape[0]]\n",
    "\n",
    "sdr_speech = SDR(s_est=speech_est_sig,s=speech_test)\n",
    "sdr_music = SDR(s_est=music_est_sig, s=music_test)\n",
    "    \n",
    "print('SDR Speech = {:.2f} ... SDR Music = {:.2f}'.format(sdr_speech,sdr_music))\n",
    "\n",
    "write(\"../../Tests/SpeechDNN.wav\", samplerate, speech_est_sig.astype(np.int16))\n",
    "write(\"../../Tests/MusicDNN.wav\", samplerate, music_est_sig.astype(np.int16))"
   ]
  }
 ],
 "metadata": {
  "kernelspec": {
   "display_name": "Python 3",
   "language": "python",
   "name": "python3"
  },
  "language_info": {
   "codemirror_mode": {
    "name": "ipython",
    "version": 3
   },
   "file_extension": ".py",
   "mimetype": "text/x-python",
   "name": "python",
   "nbconvert_exporter": "python",
   "pygments_lexer": "ipython3",
   "version": "3.7.1"
  }
 },
 "nbformat": 4,
 "nbformat_minor": 4
}
