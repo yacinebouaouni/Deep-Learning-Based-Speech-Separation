{
 "cells": [
  {
   "cell_type": "code",
   "execution_count": 3,
   "metadata": {},
   "outputs": [],
   "source": [
    "import numpy as np\n",
    "import os\n",
    "import matplotlib.pyplot as plt\n",
    "from scipy.signal import butter, lfilter, freqz\n",
    "\n",
    "from scipy.io.wavfile import read, write\n",
    "from scipy import signal\n",
    "from sklearn.decomposition import NMF\n",
    "from sklearn.preprocessing import MinMaxScaler\n",
    "from numpy.linalg import inv\n",
    "from helpers import Reconstruct, Viz_Y,SMR,get_mixed_signal,SDR\n",
    "import seaborn as sns\n",
    "import warnings\n",
    "import torch\n",
    "import math\n",
    "from tqdm import tqdm\n",
    "warnings.simplefilter('ignore')"
   ]
  },
  {
   "cell_type": "markdown",
   "metadata": {},
   "source": [
    "# 1.Read speech and music data:"
   ]
  },
  {
   "cell_type": "code",
   "execution_count": 4,
   "metadata": {},
   "outputs": [
    {
     "name": "stdout",
     "output_type": "stream",
     "text": [
      "Shape of the speech 16758000 ... Length : 380.00s ... Sample rate : 44100\n",
      "Shape of the music 16758000 ... Length : 380.00s ... Sample rate : 44100\n",
      "Shape of the test 480000 ... Length : 30.00s ... Sample rate : 16000\n",
      "Downsampled rate = 16000\n"
     ]
    }
   ],
   "source": [
    "start = 1 * 60 * 44100\n",
    "end = 7 * 60 * 44100 + 20 * 44100\n",
    "\n",
    "samplerate_s, data_speech = read(\"../../DATA/vocal_11.wav\")\n",
    "speech=data_speech[start:end,0]\n",
    "length=speech.shape[0]/samplerate_s\n",
    "print('Shape of the speech {} ... Length : {:.2f}s ... Sample rate : {}'.format(speech.shape[0],length,samplerate_s))\n",
    "\n",
    "samplerate_m, data_music = read(\"../../DATA/piano_10.wav\")\n",
    "music=data_music[start:end,0]\n",
    "length=music.shape[0]/samplerate_m\n",
    "print('Shape of the music {} ... Length : {:.2f}s ... Sample rate : {}'.format(music.shape[0],length,samplerate_m))\n",
    "\n",
    "rate = samplerate_s / 16000\n",
    "\n",
    "\n",
    "fs = 16000\n",
    "start = 9 * 60 * fs + 40 * fs\n",
    "end = 10 * 60 * fs + 10 * fs\n",
    "\n",
    "start = 580 * 44100\n",
    "end = 610 * 44100\n",
    "speech_t=data_speech[start : end,0]\n",
    "music_t = data_music[start:end, 0]\n",
    "\n",
    "\n",
    "speech_t = signal.resample(speech_t,int(speech_t.shape[0]/rate))\n",
    "music_t = signal.resample(music_t,int(music_t.shape[0]/rate))\n",
    "samplerate=int(samplerate_m/rate)\n",
    "length=music_t.shape[0]/samplerate\n",
    "\n",
    "print('Shape of the test {} ... Length : {:.2f}s ... Sample rate : {}'.format(music_t.shape[0],length,samplerate))\n",
    "\n",
    "speech = signal.resample(speech,int(speech.shape[0]/rate))\n",
    "music = signal.resample(music,int(music.shape[0]/rate))\n",
    "\n",
    "\n",
    "print('Downsampled rate = {}'.format(samplerate))\n",
    "\n",
    "\n",
    "def butter_lowpass(cutoff, fs, order=5):\n",
    "    nyq = 0.5 * fs\n",
    "    normal_cutoff = cutoff / nyq\n",
    "    b, a = butter(order, normal_cutoff, btype='low', analog=False)\n",
    "    return b, a\n",
    "\n",
    "def butter_lowpass_filter(data, cutoff, fs, order=5):\n",
    "    b, a = butter_lowpass(cutoff, fs, order=order)\n",
    "    y = lfilter(b, a, data)\n",
    "    return y\n",
    "\n",
    "\n",
    "speech = butter_lowpass_filter(speech,4000,fs)\n",
    "music = butter_lowpass_filter(music,4000,fs)\n",
    "\n",
    "music_t = butter_lowpass_filter(music_t,4000,fs)\n",
    "speech_t = butter_lowpass_filter(speech_t,4000,fs)"
   ]
  },
  {
   "cell_type": "markdown",
   "metadata": {},
   "source": [
    "# Test on one configuration :"
   ]
  },
  {
   "cell_type": "code",
   "execution_count": 5,
   "metadata": {},
   "outputs": [],
   "source": [
    "samplerate_t=samplerate"
   ]
  },
  {
   "cell_type": "code",
   "execution_count": 8,
   "metadata": {},
   "outputs": [],
   "source": [
    "def Test(speech, music,speech_t,music_t,Ns,Nm,SMR_db,samplerate,p):\n",
    "    \n",
    "    # Set the test data:\n",
    "    test,speech_test,music_test=get_mixed_signal(speech_t,music_t,SMR_db)\n",
    "    write(\"../../Tests/Test.wav\", samplerate_t, test.astype(np.int16))\n",
    "    \n",
    "    WINDOW = 'barthann'\n",
    "    WINDOW_SIZE=480\n",
    "    OVERLAP = 0.6 * WINDOW_SIZE\n",
    "    NFFT=512\n",
    "\n",
    "    f,t,Y= signal.stft(speech,samplerate,window=WINDOW,nperseg=WINDOW_SIZE,noverlap=OVERLAP,nfft=NFFT)\n",
    "    Yabs_s=np.abs(Y)\n",
    "\n",
    "    f,t,Y= signal.stft(music,samplerate,window=WINDOW,nperseg=WINDOW_SIZE,noverlap=OVERLAP,nfft=NFFT)\n",
    "    Yabs_m=np.abs(Y)\n",
    "\n",
    "    f,t,Y= signal.stft(test,samplerate,window=WINDOW,nperseg=WINDOW_SIZE,noverlap=OVERLAP,nfft=NFFT)\n",
    "    Yabs_t=np.abs(Y)\n",
    "    \n",
    "    Yabs_s[Yabs_s==0]=0.00001\n",
    "    Yabs_t[Yabs_t==0]=0.00001\n",
    "    Yabs_m[Yabs_m==0]=0.00001\n",
    "\n",
    "    model = NMF(n_components=Ns, init='nndsvd',alpha=0.2,beta_loss='itakura-saito',solver=\"mu\",max_iter=70, random_state=7)\n",
    "    model.fit(np.transpose(Yabs_s))\n",
    "    B_s = model.components_\n",
    "    \n",
    "    print('Training Speech NMF  .... Done')\n",
    "    \n",
    "    model = NMF(n_components=Nm, init='nndsvd',alpha=0.2,beta_loss='itakura-saito',solver=\"mu\",max_iter=70, random_state=7)\n",
    "    model.fit(np.transpose(Yabs_m))\n",
    "    B_m = model.components_\n",
    "\n",
    "    print('Training Music NMF .... Done')\n",
    "\n",
    "    B=np.vstack([B_s,B_m])\n",
    "    \n",
    "    scaler = MinMaxScaler()\n",
    "    B = scaler.fit_transform(B)\n",
    "    \n",
    "    model_test = NMF(n_components=Ns+Nm, init='nndsvd',alpha=0.2,beta_loss='itakura-saito',solver=\"mu\",max_iter=200, random_state=7)\n",
    "    model_test.fit(np.transpose(Yabs_t))\n",
    "    \n",
    "    model_test.components_=B\n",
    "    G_test=model_test.transform(np.transpose(Yabs_t))\n",
    "    \n",
    "    print('Testing NMF .... Done')\n",
    "    Sources,Masks=Reconstruct(B=np.transpose(B),G=np.transpose(G_test),Ns=Ns,Nm=Nm,Yabs=Y,p=p)\n",
    "    \n",
    "    print('Reconstruction Step .... Done')\n",
    "    speech_est = Sources[0]\n",
    "    music_est = Sources[1]\n",
    "    \n",
    "    _, speech_est =  signal.istft(speech_est,\n",
    "                          samplerate,\n",
    "                          window = WINDOW,\n",
    "                          nperseg=WINDOW_SIZE,\n",
    "                          noverlap=OVERLAP,\n",
    "                          nfft = NFFT)\n",
    "    \n",
    "    _, music_est =  signal.istft(music_est,\n",
    "                          samplerate,\n",
    "                          window = WINDOW,\n",
    "                          nperseg=WINDOW_SIZE,\n",
    "                          noverlap=OVERLAP,\n",
    "                          nfft = NFFT)\n",
    "    \n",
    "    speech_est = speech_est[:speech_test.shape[0]]\n",
    "    music_est = music_est[:music_test.shape[0]]\n",
    "    \n",
    "    sdr_speech = SDR(s_est=speech_est,s=speech_test)\n",
    "    sdr_music = SDR(s_est=music_est, s=music_test)\n",
    "    \n",
    "    print('SDR Speech = {:.2f} ... SDR Music = {:.2f}'.format(sdr_speech,sdr_music))\n",
    "    \n",
    "    write(\"../../Tests/SpeechX.wav\", samplerate_t, speech_est.astype(np.int16))\n",
    "    write(\"../../Tests/MusicX.wav\", samplerate_t, music_est.astype(np.int16))\n",
    "    \n",
    "    return B"
   ]
  },
  {
   "cell_type": "code",
   "execution_count": 9,
   "metadata": {},
   "outputs": [
    {
     "name": "stdout",
     "output_type": "stream",
     "text": [
      "SMR = 5.00\n",
      "Training Speech NMF  .... Done\n",
      "Training Music NMF .... Done\n",
      "Testing NMF .... Done\n",
      "Reconstruction Step .... Done\n",
      "SDR Speech = 4.39 ... SDR Music = -0.61\n"
     ]
    }
   ],
   "source": [
    "B2=Test(speech=speech, music=music, speech_t = speech_t, music_t = music_t, Ns=10,Nm=10,SMR_db=5,samplerate=samplerate_m,p=3)"
   ]
  },
  {
   "cell_type": "code",
   "execution_count": 10,
   "metadata": {},
   "outputs": [],
   "source": [
    "np.save('B5',B2)"
   ]
  }
 ],
 "metadata": {
  "kernelspec": {
   "display_name": "Python 3",
   "language": "python",
   "name": "python3"
  },
  "language_info": {
   "codemirror_mode": {
    "name": "ipython",
    "version": 3
   },
   "file_extension": ".py",
   "mimetype": "text/x-python",
   "name": "python",
   "nbconvert_exporter": "python",
   "pygments_lexer": "ipython3",
   "version": "3.7.1"
  }
 },
 "nbformat": 4,
 "nbformat_minor": 4
}
