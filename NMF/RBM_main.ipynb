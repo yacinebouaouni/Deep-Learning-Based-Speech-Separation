{
  "nbformat": 4,
  "nbformat_minor": 0,
  "metadata": {
    "colab": {
      "name": "RBM_main.ipynb",
      "provenance": [],
      "collapsed_sections": []
    },
    "kernelspec": {
      "name": "python3",
      "display_name": "Python 3"
    },
    "language_info": {
      "name": "python"
    }
  },
  "cells": [
    {
      "cell_type": "code",
      "metadata": {
        "id": "TCmSOF1p3cbf"
      },
      "source": [
        "import torch\n",
        "from torch.autograd import Variable\n",
        "import torch.nn as nn\n",
        "import torch.nn.init as I\n",
        "from torch.nn import Sigmoid\n",
        "from torch.autograd import Variable\n",
        "\n",
        "class RBM(nn.Module):\n",
        "\n",
        "    def __init__(self,\n",
        "                 visible_size,\n",
        "                 hidden_size):\n",
        "        super(RBM, self).__init__()\n",
        "        self.input_layer = visible_size\n",
        "        self.output_layer = hidden_size\n",
        "        \n",
        "        self.feed = nn.Linear(visible_size, hidden_size,bias=False)  \n",
        "\n",
        "    def forward(self, x):\n",
        "        h = Sigmoid()(self.feed(x))        # x -> h \n",
        "\n",
        "        x_reconstructed = torch.matmul(h,self.feed.weight)\n",
        "        \n",
        "        h_reconstructed = Sigmoid()(self.feed(x_reconstructed))# h-> x'\n",
        "\n",
        "        return h,x_reconstructed,h_reconstructed\n",
        "\n",
        "\n",
        "\n"
      ],
      "execution_count": 592,
      "outputs": []
    },
    {
      "cell_type": "code",
      "metadata": {
        "id": "kb6eEP_OB3Qt"
      },
      "source": [
        "data = torch.rand(5210,257)\n",
        "model = RBM(257, 200)\n",
        "model.feed.weight.requires_grad = True"
      ],
      "execution_count": 593,
      "outputs": []
    },
    {
      "cell_type": "code",
      "metadata": {
        "id": "LHI4f_tImUMT"
      },
      "source": [
        "h,x_reconstructed,h_reconstructed  = model(data)"
      ],
      "execution_count": 594,
      "outputs": []
    },
    {
      "cell_type": "code",
      "metadata": {
        "colab": {
          "base_uri": "https://localhost:8080/"
        },
        "id": "uFHeEzoX0u5N",
        "outputId": "585b95eb-54ed-4a37-ee9d-4b202c46c9ed"
      },
      "source": [
        "x_reconstructed"
      ],
      "execution_count": 595,
      "outputs": [
        {
          "output_type": "execute_result",
          "data": {
            "text/plain": [
              "tensor([[ 0.2881,  0.1064, -0.1993,  ...,  0.0922, -0.2387, -0.3539],\n",
              "        [ 0.2760,  0.1417, -0.2506,  ...,  0.0550, -0.2183, -0.3120],\n",
              "        [ 0.3319,  0.1227, -0.2421,  ...,  0.0805, -0.2724, -0.3956],\n",
              "        ...,\n",
              "        [ 0.3138,  0.1208, -0.2207,  ...,  0.0855, -0.2471, -0.3954],\n",
              "        [ 0.3058,  0.0998, -0.2125,  ...,  0.0690, -0.2256, -0.3563],\n",
              "        [ 0.2564,  0.0827, -0.2119,  ...,  0.0459, -0.2178, -0.3635]],\n",
              "       grad_fn=<MmBackward>)"
            ]
          },
          "metadata": {
            "tags": []
          },
          "execution_count": 595
        }
      ]
    },
    {
      "cell_type": "code",
      "metadata": {
        "id": "tJEGnk1xBmYo"
      },
      "source": [
        "criterion = torch.nn.MSELoss()\n",
        "optimizer = torch.optim.SGD(model.parameters(),lr=lr)\n"
      ],
      "execution_count": 596,
      "outputs": []
    },
    {
      "cell_type": "markdown",
      "metadata": {
        "id": "PF8QyTSHMfKM"
      },
      "source": [
        "## Training"
      ]
    },
    {
      "cell_type": "code",
      "metadata": {
        "id": "TF0ZJTsIvaWI"
      },
      "source": [
        "data = MinMaxScaler().fit_transform(data).astype(\"float32\")"
      ],
      "execution_count": 597,
      "outputs": []
    },
    {
      "cell_type": "code",
      "metadata": {
        "id": "BXiJ5deWN1k5"
      },
      "source": [
        "trainloader = torch.utils.data.DataLoader(data,batch_size=64)"
      ],
      "execution_count": 598,
      "outputs": []
    },
    {
      "cell_type": "code",
      "metadata": {
        "id": "DdxtVxV9M6xm"
      },
      "source": [
        "losses = []\n",
        "#model = RBM(257, 200)\n",
        "\n",
        "for epoch in range(200):  # loop over the dataset multiple times\n",
        "\n",
        "    running_loss = 0.0\n",
        "    for i,data in enumerate(trainloader):\n",
        "\n",
        "\n",
        "        model.zero_grad()     ## faire en sorte que les gradients ne s'accumulent pas\n",
        "\n",
        "        h,x_reconstructed,h_reconstructed = model(data)     ##  calcul x_reconstructed\n",
        "\n",
        "\n",
        "        a = model.feed.weight.t()       ## W model\n",
        "\n",
        "\n",
        "        loss = -torch.sum(a*(torch.matmul(data.t(),h) - torch.matmul(x_reconstructed.t(),h_reconstructed)))/(data.shape[0]*data.shape[1])\n",
        "                ## W* (xh_t - x'_t.  h'_t)\n",
        "        loss = torch.nn.KLDivLoss(reduction='mean')(data,x_reconstructed)\n",
        "        loss.backward()     ## (xh_t - x'_t. h'_t)\n",
        "\n",
        "        optimizer.step()    ## W -= W - lr*dL/dW\n",
        "        # print statistics\n",
        "        running_loss += loss.item()\n",
        "\n",
        "    losses.append(loss)\n",
        "    #print(criterion(data,x_reconstructed))\n",
        "    print(loss)\n",
        "print('Finished Training')"
      ],
      "execution_count": null,
      "outputs": []
    },
    {
      "cell_type": "code",
      "metadata": {
        "id": "-g9N5Cpt1NFB"
      },
      "source": [
        "a = model.feed.weight.t()\n",
        "loss = torch.sum(a*(torch.matmul(torch.from_numpy(data).t(),h) - torch.matmul(x_reconstructed.t(),h_reconstructed)))\n",
        "loss.backward()"
      ],
      "execution_count": 517,
      "outputs": []
    },
    {
      "cell_type": "code",
      "metadata": {
        "id": "1G90heE80CTD"
      },
      "source": [
        "b = torch.matmul(data.t(),h) - torch.matmul(x_reconstructed.t(),h_reconstructed)"
      ],
      "execution_count": 490,
      "outputs": []
    },
    {
      "cell_type": "code",
      "metadata": {
        "colab": {
          "base_uri": "https://localhost:8080/"
        },
        "id": "cs56ZY8f0DUR",
        "outputId": "c015ab9f-c6fb-4a26-b7d9-d1c91acfb94b"
      },
      "source": [
        "a = model.feed.weight\n",
        "a.shape , b.shape"
      ],
      "execution_count": 491,
      "outputs": [
        {
          "output_type": "execute_result",
          "data": {
            "text/plain": [
              "(torch.Size([200, 257]), torch.Size([257, 200]))"
            ]
          },
          "metadata": {
            "tags": []
          },
          "execution_count": 491
        }
      ]
    },
    {
      "cell_type": "code",
      "metadata": {
        "id": "elnJRlLDzDyg"
      },
      "source": [
        "h,x_reconstructed,h_reconstructed = model(data)\n"
      ],
      "execution_count": 478,
      "outputs": []
    },
    {
      "cell_type": "code",
      "metadata": {
        "id": "_3fLeS5vnHBy"
      },
      "source": [
        "import time\n",
        "\n",
        "n_epoch = 200\n",
        "print(len(trainloader))\n",
        "criterion = nn.MSELoss()\n",
        "learning_rate = 0.001\n",
        "start = time.time()\n",
        "n_samples = len(trainloader)\n",
        "grad_norm_epoch = [0 for i in range(n_epoch)]\n",
        "full_loss_epoch = [0 for i in range(n_epoch)]\n",
        "\n",
        "for epoch in range(n_epoch):  # loop over the dataset multiple times\n",
        "    #Compute full gradient and full loss function\n",
        "    running_loss = 0.0\n",
        "    optimizer.zero_grad()\n",
        "    for i, data in enumerate(trainloader):\n",
        "      h,x_reconstructed,h_reconstructed = model(data)\n",
        "\n",
        "      loss_grad = criterion(x_reconstructed, data)\n",
        "      loss_grad.backward() # compute gradients\n",
        "\n",
        "      for f in model.parameters():\n",
        "        w_u = Variable(torch.matmul(data.t(),h) - torch.matmul(x_reconstructed.t(),h_reconstructed)).t()\n",
        "        f.data.sub_(w_u * learning_rate)\n",
        "    print(loss)\n",
        "        # print statistics\n",
        "\n",
        "\n",
        "end = time.time()\n",
        "print('time is : ', end - start)\n",
        "print('Finished Training')"
      ],
      "execution_count": null,
      "outputs": []
    },
    {
      "cell_type": "code",
      "metadata": {
        "colab": {
          "base_uri": "https://localhost:8080/",
          "height": 382
        },
        "id": "e5T1qFJDzILc",
        "outputId": "d789e4d7-c9e1-467f-95a6-a66d12b96271"
      },
      "source": [
        "import seaborn as sns\n",
        "x_recons = x_reconstructed.detach().numpy()\n",
        "sns.distplot(x_recons) ,sns.distplot(data)"
      ],
      "execution_count": 526,
      "outputs": [
        {
          "output_type": "stream",
          "text": [
            "/usr/local/lib/python3.7/dist-packages/seaborn/distributions.py:2557: FutureWarning: `distplot` is a deprecated function and will be removed in a future version. Please adapt your code to use either `displot` (a figure-level function with similar flexibility) or `histplot` (an axes-level function for histograms).\n",
            "  warnings.warn(msg, FutureWarning)\n",
            "/usr/local/lib/python3.7/dist-packages/seaborn/distributions.py:2557: FutureWarning: `distplot` is a deprecated function and will be removed in a future version. Please adapt your code to use either `displot` (a figure-level function with similar flexibility) or `histplot` (an axes-level function for histograms).\n",
            "  warnings.warn(msg, FutureWarning)\n"
          ],
          "name": "stderr"
        },
        {
          "output_type": "execute_result",
          "data": {
            "text/plain": [
              "(<matplotlib.axes._subplots.AxesSubplot at 0x7fd84da230d0>,\n",
              " <matplotlib.axes._subplots.AxesSubplot at 0x7fd84da230d0>)"
            ]
          },
          "metadata": {
            "tags": []
          },
          "execution_count": 526
        },
        {
          "output_type": "display_data",
          "data": {
            "image/png": "[encoded data removed]",
            "text/plain": [
              "<Figure size 432x288 with 1 Axes>"
            ]
          },
          "metadata": {
            "tags": [],
            "needs_background": "light"
          }
        }
      ]
    },
    {
      "cell_type": "code",
      "metadata": {
        "id": "bD4D2GUHu30u"
      },
      "source": [
        ""
      ],
      "execution_count": null,
      "outputs": []
    }
  ]
}