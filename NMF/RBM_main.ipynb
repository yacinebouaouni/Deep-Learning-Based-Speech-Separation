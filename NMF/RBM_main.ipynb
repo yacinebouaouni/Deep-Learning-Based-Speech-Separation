{
  "nbformat": 4,
  "nbformat_minor": 0,
  "metadata": {
    "colab": {
      "name": "RBM_main.ipynb",
      "provenance": [],
      "collapsed_sections": []
    },
    "kernelspec": {
      "name": "python3",
      "display_name": "Python 3"
    },
    "language_info": {
      "name": "python"
    }
  },
  "cells": [
    {
      "cell_type": "code",
      "metadata": {
        "id": "TCmSOF1p3cbf"
      },
      "source": [
        "import torch\n",
        "from torch.autograd import Variable\n",
        "import torch.nn as nn\n",
        "import torch.nn.init as I\n",
        "from torch.nn import Sigmoid \n",
        "class RBM(nn.Module):\n",
        "\n",
        "    def __init__(self,\n",
        "                 visible_size,\n",
        "                 hidden_size):\n",
        "        super(RBM, self).__init__()\n",
        "        self.input_layer = visible_size\n",
        "        self.output_layer = hidden_size\n",
        "        \n",
        "        self.feed = nn.Linear(visible_size, hidden_size,bias=False)  \n",
        "\n",
        "    def forward(self, x):\n",
        "        h = Sigmoid()(self.feed(x))        # x -> h \n",
        "\n",
        "        x_reconstructed = torch.matmul(h,self.feed.weight)\n",
        "        \n",
        "        h_reconstructed = Sigmoid()(self.feed(x_reconstructed))# h-> x'\n",
        "\n",
        "        return h,x_reconstructed,h_reconstructed\n",
        "\n",
        "\n",
        "\n"
      ],
      "execution_count": 224,
      "outputs": []
    },
    {
      "cell_type": "code",
      "metadata": {
        "id": "kb6eEP_OB3Qt"
      },
      "source": [
        "data = torch.rand(5210,257)\n",
        "model = RBM(257, 200)\n",
        "model.feed.weight.requires_grad = True"
      ],
      "execution_count": 225,
      "outputs": []
    },
    {
      "cell_type": "markdown",
      "metadata": {
        "id": "8-Rlo3HR8oGt"
      },
      "source": [
        "### Contrastive divergence"
      ]
    },
    {
      "cell_type": "code",
      "metadata": {
        "id": "m8_y4UwsTa13"
      },
      "source": [
        "lr = 0.001\n",
        "for param in model.parameters():\n",
        "  weight_update = (torch.matmul(data.t(),h) - torch.matmul(x_reconstructed.t(),h_reconstructed)).t()\n",
        "  param.data.sub_(lr*weight_update)"
      ],
      "execution_count": 241,
      "outputs": []
    },
    {
      "cell_type": "code",
      "metadata": {
        "id": "tJEGnk1xBmYo"
      },
      "source": [
        "criterion = torch.nn.MSELoss()\n",
        "optimizer = torch.optim.SGD(model.parameters(),lr=lr)\n"
      ],
      "execution_count": 242,
      "outputs": []
    },
    {
      "cell_type": "markdown",
      "metadata": {
        "id": "PF8QyTSHMfKM"
      },
      "source": [
        "## Training"
      ]
    },
    {
      "cell_type": "code",
      "metadata": {
        "id": "--y9ePUtM8K_"
      },
      "source": [
        "n_epochs = 100"
      ],
      "execution_count": 243,
      "outputs": []
    },
    {
      "cell_type": "code",
      "metadata": {
        "id": "BXiJ5deWN1k5"
      },
      "source": [
        "trainloader = torch.utils.data.DataLoader(data,batch_size=64)"
      ],
      "execution_count": 244,
      "outputs": []
    },
    {
      "cell_type": "code",
      "metadata": {
        "colab": {
          "base_uri": "https://localhost:8080/"
        },
        "id": "zok8RTYQU_Nb",
        "outputId": "0b8e84d5-b04c-47b2-ebf8-6a14fdaaf088"
      },
      "source": [
        "a = model.feed.weight\n",
        "a"
      ],
      "execution_count": 245,
      "outputs": [
        {
          "output_type": "execute_result",
          "data": {
            "text/plain": [
              "Parameter containing:\n",
              "tensor([[-0.0334,  0.0095,  0.0344,  ...,  0.0145, -0.0590, -0.0551],\n",
              "        [ 0.0574, -0.0466, -0.0293,  ..., -0.0191,  0.0455, -0.0550],\n",
              "        [ 0.0291,  0.0243, -0.0059,  ..., -0.0087, -0.0183,  0.0062],\n",
              "        ...,\n",
              "        [-0.0382,  0.0549,  0.0325,  ...,  0.0503,  0.0478, -0.0399],\n",
              "        [ 0.0010, -0.0376, -0.0361,  ..., -0.0348,  0.0328,  0.0363],\n",
              "        [ 0.0516,  0.0589, -0.0569,  ...,  0.0311, -0.0141,  0.0158]],\n",
              "       requires_grad=True)"
            ]
          },
          "metadata": {
            "tags": []
          },
          "execution_count": 245
        }
      ]
    },
    {
      "cell_type": "code",
      "metadata": {
        "id": "DdxtVxV9M6xm"
      },
      "source": [
        "losses = []\n",
        "#model = RBM(257, 200)\n",
        "\n",
        "for epoch in range(150):  # loop over the dataset multiple times\n",
        "\n",
        "    running_loss = 0.0\n",
        "    for i,data in enumerate(trainloader):\n",
        "\n",
        "        # zero the parameter gradients\n",
        "        optimizer.zero_grad()\n",
        "        # get the inputs; data is a list of [inputs, labels]\n",
        "        h,x_reconstructed,h_reconstructed = model(data)\n",
        "\n",
        "        # forward + backward + optimize\n",
        "        #loss = criterion(torch.matmul(data.t(),h),torch.matmul(x_reconstructed.t(),h_reconstructed))\n",
        "        loss = criterion(x_reconstructed,data)\n",
        "        loss.backward()\n",
        "        optimizer.step()\n",
        "\n",
        "        # print statistics\n",
        "        running_loss += loss.item()\n",
        "\n",
        "    losses.append(loss)\n",
        "    print(loss)\n",
        "\n",
        "print('Finished Training')"
      ],
      "execution_count": null,
      "outputs": []
    },
    {
      "cell_type": "code",
      "metadata": {
        "id": "T41ULSNTWwN0"
      },
      "source": [
        "b = model.feed.weight\n",
        "b"
      ],
      "execution_count": null,
      "outputs": []
    }
  ]
}