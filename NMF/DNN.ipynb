{
 "cells": [
  {
   "cell_type": "code",
   "execution_count": 71,
   "metadata": {},
   "outputs": [],
   "source": [
    "import torch\n",
    "import numpy as np\n",
    "import torch.optim as optim\n",
    "from torch.autograd import Variable\n",
    "import torch.nn as nn\n",
    "import torch.nn.functional as F\n",
    "import torch.nn.init as I\n",
    "from torch.nn import Sigmoid\n",
    "from torch import transpose\n"
   ]
  },
  {
   "cell_type": "code",
   "execution_count": 29,
   "metadata": {},
   "outputs": [],
   "source": [
    "class Net(nn.Module):\n",
    "\n",
    "    def __init__(self,d):\n",
    "        super(Net, self).__init__()\n",
    "        \n",
    "        self.fc1 = nn.Linear(d, 100, bias= False)  # d is dimension of the input.\n",
    "        self.fc2 = nn.Linear(100, 50, bias=False)\n",
    "        self.fc3 = nn.Linear(50, 200,bias= False)\n",
    "        self.fc4 = nn.Linear(200,2, bias = False)\n",
    "        \n",
    "    def forward(self, x):\n",
    "        \n",
    "        x = F.sigmoid(self.fc1(x))\n",
    "        x = F.sigmoid(self.fc2(x))\n",
    "        x = F.sigmoid(self.fc3(x))\n",
    "        fx = F.sigmoid(self.fc4(x))\n",
    "\n",
    "        return fx\n",
    "    \n"
   ]
  },
  {
   "cell_type": "code",
   "execution_count": 30,
   "metadata": {},
   "outputs": [
    {
     "name": "stdout",
     "output_type": "stream",
     "text": [
      "Net(\n",
      "  (fc1): Linear(in_features=1026, out_features=100, bias=False)\n",
      "  (fc2): Linear(in_features=100, out_features=50, bias=False)\n",
      "  (fc3): Linear(in_features=50, out_features=200, bias=False)\n",
      "  (fc4): Linear(in_features=200, out_features=2, bias=False)\n",
      ")\n"
     ]
    }
   ],
   "source": [
    "model = Net(513*2)\n",
    "print(model)"
   ]
  },
  {
   "cell_type": "code",
   "execution_count": 25,
   "metadata": {},
   "outputs": [],
   "source": [
    "import numpy as np\n",
    "\n",
    "x1=torch.tensor(np.zeros((20,10)))\n",
    "x1.requires_grad = True\n",
    "d = {\"model\":model.parameters(),\"x\":x1}\n",
    "d =list(model.parameters())+[x1]\n",
    "optimizer = optim.LBFGS(d,lr=1, max_iter=20, tolerance_grad=1e-07)"
   ]
  },
  {
   "cell_type": "code",
   "execution_count": 26,
   "metadata": {},
   "outputs": [],
   "source": [
    "optimizer = optim.LBFGS(d,lr=1, max_iter=20, tolerance_grad=1e-07)"
   ]
  },
  {
   "cell_type": "code",
   "execution_count": 52,
   "metadata": {},
   "outputs": [],
   "source": [
    "learning_rate = 0.2\n"
   ]
  },
  {
   "cell_type": "markdown",
   "metadata": {},
   "source": [
    "# RBM :"
   ]
  },
  {
   "cell_type": "code",
   "execution_count": 67,
   "metadata": {},
   "outputs": [],
   "source": []
  },
  {
   "cell_type": "code",
   "execution_count": 92,
   "metadata": {},
   "outputs": [],
   "source": [
    "def sigmoid(x):\n",
    "    return Sigmoid()(x)\n",
    "\n",
    "class RBM(nn.Module):\n",
    "\n",
    "    \n",
    "    def __init__(self, visible_size, hidden_size):\n",
    "        \n",
    "        super(RBM, self).__init__()\n",
    "        \n",
    "        self.input_layer = visible_size\n",
    "        self.output_layer = hidden_size\n",
    "                \n",
    "        self.feed = nn.Linear(visible_size, hidden_size, bias=False)  \n",
    "\n",
    "\n",
    "    def forward(self, x):\n",
    "        \n",
    "        h = sigmoid(self.feed(x))        # x -> h \n",
    "\n",
    "        x_reconstructed = torch.matmul(h,self.feed.weight)\n",
    "        \n",
    "        print(' shape x_r {}'.format(x_reconstructed.size()))\n",
    "        print(' shape h {}'.format(h.size()))\n",
    "        h_reconstructed = sigmoid(self.feed(x_reconstructed))# h-> x'\n",
    "        print(' shape h_r {}'.format(h_reconstructed.size()))\n",
    "\n",
    "        print('')\n",
    "        update = torch.matmul(x.t(), h) - torch.matmul(x_reconstructed.t(), h_reconstructed)\n",
    "\n",
    "        return update\n",
    "\n",
    "    \n",
    "    def update(self,eta, update):\n",
    "        \n",
    "        self.feed.weight = self.feed.weight + eta * update\n",
    "        \n",
    "data = torch.rand(1,257)\n",
    "model = RBM(data.shape[1], 200)\n",
    "model(data)"
   ]
  },
  {
   "cell_type": "code",
   "execution_count": null,
   "metadata": {},
   "outputs": [],
   "source": []
  }
 ],
 "metadata": {
  "kernelspec": {
   "display_name": "Python 3",
   "language": "python",
   "name": "python3"
  },
  "language_info": {
   "codemirror_mode": {
    "name": "ipython",
    "version": 3
   },
   "file_extension": ".py",
   "mimetype": "text/x-python",
   "name": "python",
   "nbconvert_exporter": "python",
   "pygments_lexer": "ipython3",
   "version": "3.7.1"
  }
 },
 "nbformat": 4,
 "nbformat_minor": 4
}
