{
 "cells": [
  {
   "cell_type": "code",
   "execution_count": 1,
   "metadata": {},
   "outputs": [],
   "source": [
    "import torch\n",
    "import numpy as np\n",
    "from Model import Net\n",
    "from Dataloader import AudioDataset\n",
    "from helpers import Reconstruct, Viz_Y\n",
    "\n",
    "import matplotlib.pyplot as plt\n",
    "import seaborn as sns\n",
    "from scipy.io.wavfile import read, write\n",
    "from scipy import signal\n",
    "\n",
    "\n",
    "from torch.optim import LBFGS, Adam,SGD\n",
    "from sklearn.decomposition import NMF\n",
    "from sklearn.preprocessing import MinMaxScaler\n",
    "import warnings \n",
    "\n",
    "warnings.simplefilter('ignore')"
   ]
  },
  {
   "cell_type": "code",
   "execution_count": 8,
   "metadata": {},
   "outputs": [],
   "source": [
    "def gain_params(s1,s2,y):\n",
    "\n",
    "        l2_s1 = torch.norm(s1.float(),2, None)\n",
    "                 \n",
    "        l2_s2 = torch.norm(s2.float(),2, None)\n",
    "               \n",
    "        l2_Y = torch.norm(y.float(),2, None)\n",
    "              \n",
    "        # u is initialized by the l2-norm of the initial NMF source estimate sˆ1 \n",
    "        # divided by the l2-norm of the mixed signal y\n",
    "        u = torch.div(l2_s1, l2_Y) \n",
    "\n",
    "        # v is initialized by the same manner\n",
    "        v = torch.div(l2_s2, l2_Y)\n",
    "\n",
    "        return u,v\n",
    "    \n",
    "def gain_params_vec(s1,s2,y):\n",
    "\n",
    "        l2_s1 = torch.norm(s1.float().t(),2, True)\n",
    "                 \n",
    "        l2_s2 = torch.norm(s2.float().t(),2, True)\n",
    "               \n",
    "        l2_Y = torch.norm(y.float().t(),2, True)\n",
    "              \n",
    "        # u is initialized by the l2-norm of the initial NMF source estimate sˆ1 \n",
    "        # divided by the l2-norm of the mixed signal y\n",
    "        u = torch.div(l2_s1, l2_Y) \n",
    "\n",
    "        # v is initialized by the same manner\n",
    "        v = torch.div(l2_s2, l2_Y)\n",
    "\n",
    "        return u,v\n",
    "    \n",
    "    \n",
    "def feed_(x):\n",
    "    \n",
    "    f = model(x)\n",
    "    f1 = f[0] \n",
    "    f2 = f[1]\n",
    "    return f1,f2\n",
    "\n",
    "def energy_1(x_source1):\n",
    "    \n",
    "    f1,f2 = feed_(x_source1)\n",
    "    e1 = (1 - f1 ).pow(2) + f2.pow(2)\n",
    "    return e1 \n",
    "\n",
    "def energy_2(x_source2):\n",
    "\n",
    "    f1,f2 = feed_(x_source2)\n",
    "    e2 = f1.pow(2) + (1 - f2 ).pow(2) \n",
    "    return e2\n",
    "\n",
    "def E_err(s1,s2,y):\n",
    "  \n",
    "    u,v = gain_params_vec(s1,s2,y) \n",
    "    return torch.norm(torch.mul(u,s1) + torch.mul(v,s2) - y,'fro',None)\n",
    "\n",
    "def E_err_vec(s1,s2,y,u,v):\n",
    "  \n",
    "    return torch.norm(u*s1 + v*s2 - y,'fro',None)\n",
    "\n",
    "\n",
    "def relu(x):\n",
    "    return torch.nn.ReLU()(x)\n",
    "\n",
    "def nonnegative_constraint(s1,s2,y,u,v):  \n",
    "    \n",
    "    u_sum  = torch.sum(relu(u))\n",
    "    v_sum  = torch.sum(relu(v))\n",
    "    x1_sum = torch.sum(relu(s1))\n",
    "    x2_sum = torch.sum(relu(s2))\n",
    "    total_sum = 1 / (u_sum + v_sum + x1_sum + x2_sum)    #vector containing all the unknowns which must all be nonnegative\n",
    "\n",
    "    return total_sum \n",
    "\n",
    "\n",
    "def nonneg_constraint(s1,s2,u,v):\n",
    "    \n",
    "    R=min([s1.min().item(),s2.min().item(),u,v,0])\n",
    "    \n",
    "    return R**2"
   ]
  },
  {
   "cell_type": "code",
   "execution_count": 2,
   "metadata": {},
   "outputs": [
    {
     "name": "stdout",
     "output_type": "stream",
     "text": [
      "False\n",
      "cpu\n"
     ]
    }
   ],
   "source": [
    "print(torch.cuda.is_available())\n",
    "\n",
    "device = torch.device(\"cuda:0\" if torch.cuda.is_available() else \"cpu\")\n",
    "print(device)"
   ]
  },
  {
   "cell_type": "markdown",
   "metadata": {},
   "source": [
    "# Read audio file:"
   ]
  },
  {
   "cell_type": "code",
   "execution_count": 3,
   "metadata": {},
   "outputs": [
    {
     "name": "stdout",
     "output_type": "stream",
     "text": [
      "Shape of the data 500000\n",
      "Length : 11.34s\n",
      "Sample rate : 44100\n"
     ]
    }
   ],
   "source": [
    "samplerate, data = read(\"../data/mix_signal.wav\")\n",
    "music=data[:500000,0]\n",
    "length=music.shape[0]/samplerate\n",
    "print('Shape of the data {}'.format(music.shape[0]))\n",
    "print('Length : {:.2f}s'.format(length))\n",
    "print('Sample rate : {}'.format(samplerate))"
   ]
  },
  {
   "cell_type": "markdown",
   "metadata": {},
   "source": [
    "# Apply STFT :\n",
    "\n",
    "## We can change :\n",
    "\n",
    "* Window : Type of window\n",
    "* nperseg : length of window\n",
    "* noverlap : overlap between windows.\n",
    "* nfft : fft length > window size\n"
   ]
  },
  {
   "cell_type": "code",
   "execution_count": 4,
   "metadata": {},
   "outputs": [],
   "source": [
    "WINDOW = 'hamming'\n",
    "WINDOW_SIZE=480\n",
    "OVERLAP = 0.6 * WINDOW_SIZE\n",
    "NFFT=512\n",
    "\n",
    "\n",
    "f,t,Y= signal.stft(music,samplerate,window=WINDOW,nperseg=WINDOW_SIZE,noverlap=OVERLAP,nfft=NFFT)\n",
    "Yabs=np.abs(Y)"
   ]
  },
  {
   "cell_type": "code",
   "execution_count": null,
   "metadata": {},
   "outputs": [],
   "source": [
    "Viz_Y(Yabs,t ,f)"
   ]
  },
  {
   "cell_type": "markdown",
   "metadata": {},
   "source": [
    "# Apply NMF :"
   ]
  },
  {
   "cell_type": "code",
   "execution_count": 5,
   "metadata": {},
   "outputs": [
    {
     "name": "stdout",
     "output_type": "stream",
     "text": [
      "Source shape = (257, 2606)\n"
     ]
    }
   ],
   "source": [
    "n_components=2\n",
    "scaler = MinMaxScaler()\n",
    "Yabs = scaler.fit_transform(Yabs)\n",
    "Yabs[Yabs==0]=0.001\n",
    "scaler\n",
    "model = NMF(n_components=n_components, init='random',alpha=0.5,beta_loss='itakura-saito',solver=\"mu\",max_iter=500, random_state=0)\n",
    "B = model.fit_transform(Yabs)\n",
    "G = model.components_\n",
    "\n",
    "Sources = Reconstruct(n_components, B, G, Yabs)"
   ]
  },
  {
   "cell_type": "code",
   "execution_count": 9,
   "metadata": {},
   "outputs": [],
   "source": [
    "s1 = torch.tensor(Sources[0], dtype = torch.double)\n",
    "s2 = torch.tensor(Sources[1])\n",
    "Yabs = torch.tensor(Yabs)\n",
    "u0,v0 = gain_params_vec(s1, s2, Yabs)"
   ]
  },
  {
   "cell_type": "code",
   "execution_count": 10,
   "metadata": {},
   "outputs": [
    {
     "data": {
      "text/plain": [
       "<matplotlib.legend.Legend at 0x1c9abee1668>"
      ]
     },
     "execution_count": 10,
     "metadata": {},
     "output_type": "execute_result"
    },
    {
     "data": {
      "image/png": "[encoded data removed]",
      "text/plain": [
       "<Figure size 1440x504 with 1 Axes>"
      ]
     },
     "metadata": {
      "needs_background": "light"
     },
     "output_type": "display_data"
    }
   ],
   "source": [
    "fig,ax=plt.subplots(1,1,figsize=(20,7))\n",
    "g = sns.distplot(Yabs.detach().numpy(),hist=False,ax=ax)\n",
    "g = sns.distplot((u0*s1+v0*s2).detach().numpy(), hist = False,ax=ax)\n",
    "ax.legend(['Yabs','reconstruction'])"
   ]
  },
  {
   "cell_type": "code",
   "execution_count": 12,
   "metadata": {},
   "outputs": [
    {
     "name": "stdout",
     "output_type": "stream",
     "text": [
      "Initial Loss = 22.43038603462996\n"
     ]
    }
   ],
   "source": [
    "L2_LOSS=torch.norm(u0*s1 + v0*s2 - Yabs,'fro',None)\n",
    "print('Initial Loss = {}'.format(L2_LOSS))"
   ]
  },
  {
   "cell_type": "markdown",
   "metadata": {},
   "source": [
    " # Learning Loop :"
   ]
  },
  {
   "cell_type": "markdown",
   "metadata": {},
   "source": [
    "* Define optimizer with all parameters W , x1 , x2 , u , v\n",
    "* Dataloader gives a batch that we loop accross\n",
    "* For each sample we feed the network with X1 and then we get f1 \n",
    "* We feed with X2 and we get f2\n",
    "* We compute u and v using the function.\n",
    "* We compute the total loss.\n",
    "* Loss.back()\n",
    "* Optimizer step "
   ]
  },
  {
   "cell_type": "markdown",
   "metadata": {},
   "source": [
    "# Train the DNN :"
   ]
  },
  {
   "cell_type": "code",
   "execution_count": 13,
   "metadata": {},
   "outputs": [],
   "source": [
    "s1 = torch.tensor(Sources[0])\n",
    "s2 = torch.tensor(Sources[1])\n",
    "Yabs = torch.tensor(Yabs)\n",
    "\n",
    "u,v = gain_params_vec(s1, s2, Yabs)\n",
    "u.requires_grad = True\n",
    "v.requires_grad = True\n",
    "#print('u0 = {:.2f} , v0 = {:.2f}'.format(u,v)) "
   ]
  },
  {
   "cell_type": "code",
   "execution_count": 14,
   "metadata": {},
   "outputs": [],
   "source": [
    "\n",
    "s1.requires_grad = True\n",
    "s2.requires_grad = True\n",
    "Yabs.requires_grad = False"
   ]
  },
  {
   "cell_type": "code",
   "execution_count": 15,
   "metadata": {},
   "outputs": [
    {
     "name": "stdout",
     "output_type": "stream",
     "text": [
      "Net(\n",
      "  (sigmoid): Sigmoid()\n",
      "  (fc1): Linear(in_features=257, out_features=100, bias=True)\n",
      "  (fc2): Linear(in_features=100, out_features=50, bias=True)\n",
      "  (fc3): Linear(in_features=50, out_features=200, bias=True)\n",
      "  (fc4): Linear(in_features=200, out_features=2, bias=True)\n",
      ")\n"
     ]
    }
   ],
   "source": [
    "model = Net(257)\n",
    "print(model)\n"
   ]
  },
  {
   "cell_type": "code",
   "execution_count": 16,
   "metadata": {},
   "outputs": [],
   "source": [
    "def Criteria(s1,s2,Yabs,u,v,i) :\n",
    "    \n",
    "    # Feed forward and get energy 1 and 2\n",
    "    e1 = energy_1(s1[:,i].float())\n",
    "    e2 = energy_2(s2[:,i].float())\n",
    "    \n",
    "    # Get least square error :\n",
    "    e_rr=E_err_vec(s1[:,i], s2[:,i], Yabs[:,i],u[i],v[i])\n",
    "    \n",
    "    # Non negative constraint\n",
    "    R = nonneg_constraint(s1[:,i], s2[:,i], u[i], v[i])\n",
    "    \n",
    "    # Compute total Loss :\n",
    "    \n",
    "    return e1 + e2 + e_rr + R\n",
    "    "
   ]
  },
  {
   "cell_type": "code",
   "execution_count": 17,
   "metadata": {},
   "outputs": [
    {
     "name": "stdout",
     "output_type": "stream",
     "text": [
      "tensor([0.7003, 0.6436, 0.6608,  ..., 0.7315, 0.8130, 0.9657],\n",
      "       requires_grad=True)\n"
     ]
    }
   ],
   "source": [
    "print(u)"
   ]
  },
  {
   "cell_type": "code",
   "execution_count": 18,
   "metadata": {},
   "outputs": [
    {
     "name": "stdout",
     "output_type": "stream",
     "text": [
      "tensor([0.5497, 0.5857, 0.5915,  ..., 0.5463, 0.3896, 0.1118],\n",
      "       requires_grad=True)\n"
     ]
    }
   ],
   "source": [
    "print(v)"
   ]
  },
  {
   "cell_type": "code",
   "execution_count": 19,
   "metadata": {},
   "outputs": [
    {
     "name": "stdout",
     "output_type": "stream",
     "text": [
      "tensor([[3.3228e-02, 9.2628e-02, 1.9641e-02,  ..., 7.6697e-02, 2.3944e-01,\n",
      "         1.0606e-01],\n",
      "        [3.9372e-02, 5.5057e-02, 5.5043e-02,  ..., 2.6710e-02, 2.1651e-01,\n",
      "         1.8769e-01],\n",
      "        [3.2987e-01, 5.8061e-01, 8.7852e-01,  ..., 2.5300e-01, 6.5915e-01,\n",
      "         6.5451e-01],\n",
      "        ...,\n",
      "        [1.9417e-02, 2.4556e-03, 3.0206e-03,  ..., 7.1451e-06, 2.9168e-04,\n",
      "         3.6695e-03],\n",
      "        [2.5670e-02, 5.0725e-03, 9.5691e-04,  ..., 4.2338e-06, 6.8366e-04,\n",
      "         6.4428e-03],\n",
      "        [2.3430e-02, 8.7846e-03, 1.9925e-03,  ..., 5.0858e-06, 2.4461e-04,\n",
      "         7.0179e-03]], dtype=torch.float64, requires_grad=True)\n"
     ]
    }
   ],
   "source": [
    "print(s1)"
   ]
  },
  {
   "cell_type": "markdown",
   "metadata": {},
   "source": [
    "params = list(model.parameters())+[s1]+[s2]+[u]+[v] \n",
    "optimizer= LBFGS(params, lr=0.1, max_iter=20, tolerance_grad=1e-07)\n",
    "model.train()\n",
    "for i in range(s1.shape[1]):\n",
    "    \n",
    "    def closure():\n",
    "        optimizer.zero_grad()\n",
    "        loss = Criteria(s1,s2,Yabs,u,v,i)\n",
    "        loss.backward()\n",
    "        return loss\n",
    "        \n",
    "        \n",
    "    print('step i= {}'.format(i))\n",
    "    optimizer.step(closure)"
   ]
  },
  {
   "cell_type": "code",
   "execution_count": 21,
   "metadata": {},
   "outputs": [],
   "source": [
    "params = list(model.parameters())+[s1]+[s2]+[u]+[v] \n",
    "optimizer= SGD(params, lr=0.05)"
   ]
  },
  {
   "cell_type": "code",
   "execution_count": 22,
   "metadata": {},
   "outputs": [
    {
     "name": "stdout",
     "output_type": "stream",
     "text": [
      "Epoch 0 , Loss = 1.38\n",
      "Epoch 1 , Loss = 1.30\n",
      "Epoch 2 , Loss = 0.69\n",
      "Epoch 3 , Loss = 0.16\n",
      "Epoch 4 , Loss = 0.08\n",
      "Epoch 5 , Loss = 0.05\n",
      "Epoch 6 , Loss = 0.08\n",
      "Epoch 7 , Loss = 0.07\n"
     ]
    },
    {
     "ename": "KeyboardInterrupt",
     "evalue": "",
     "output_type": "error",
     "traceback": [
      "\u001b[1;31m---------------------------------------------------------------------------\u001b[0m",
      "\u001b[1;31mKeyboardInterrupt\u001b[0m                         Traceback (most recent call last)",
      "\u001b[1;32m<ipython-input-22-4cb25b747432>\u001b[0m in \u001b[0;36m<module>\u001b[1;34m\u001b[0m\n\u001b[0;32m      8\u001b[0m             \u001b[0moptimizer\u001b[0m\u001b[1;33m.\u001b[0m\u001b[0mzero_grad\u001b[0m\u001b[1;33m(\u001b[0m\u001b[1;33m)\u001b[0m\u001b[1;33m\u001b[0m\u001b[1;33m\u001b[0m\u001b[0m\n\u001b[0;32m      9\u001b[0m             \u001b[0mloss\u001b[0m \u001b[1;33m=\u001b[0m \u001b[0mCriteria\u001b[0m\u001b[1;33m(\u001b[0m\u001b[0ms1\u001b[0m\u001b[1;33m,\u001b[0m\u001b[0ms2\u001b[0m\u001b[1;33m,\u001b[0m\u001b[0mYabs\u001b[0m\u001b[1;33m,\u001b[0m\u001b[0mu\u001b[0m\u001b[1;33m,\u001b[0m\u001b[0mv\u001b[0m\u001b[1;33m,\u001b[0m\u001b[0mi\u001b[0m\u001b[1;33m)\u001b[0m\u001b[1;33m\u001b[0m\u001b[1;33m\u001b[0m\u001b[0m\n\u001b[1;32m---> 10\u001b[1;33m             \u001b[0mloss\u001b[0m\u001b[1;33m.\u001b[0m\u001b[0mbackward\u001b[0m\u001b[1;33m(\u001b[0m\u001b[1;33m)\u001b[0m\u001b[1;33m\u001b[0m\u001b[1;33m\u001b[0m\u001b[0m\n\u001b[0m\u001b[0;32m     11\u001b[0m             \u001b[1;31m# fill zeros into the first row of grad\u001b[0m\u001b[1;33m\u001b[0m\u001b[1;33m\u001b[0m\u001b[1;33m\u001b[0m\u001b[0m\n\u001b[0;32m     12\u001b[0m             \u001b[0mu\u001b[0m\u001b[1;33m.\u001b[0m\u001b[0mgrad\u001b[0m\u001b[1;33m.\u001b[0m\u001b[0mdata\u001b[0m\u001b[1;33m[\u001b[0m\u001b[1;33m:\u001b[0m\u001b[0mi\u001b[0m\u001b[1;33m]\u001b[0m\u001b[1;33m.\u001b[0m\u001b[0mfill_\u001b[0m\u001b[1;33m(\u001b[0m\u001b[1;36m0\u001b[0m\u001b[1;33m)\u001b[0m\u001b[1;33m\u001b[0m\u001b[1;33m\u001b[0m\u001b[0m\n",
      "\u001b[1;32m~\\Anaconda3\\lib\\site-packages\\torch\\tensor.py\u001b[0m in \u001b[0;36mbackward\u001b[1;34m(self, gradient, retain_graph, create_graph, inputs)\u001b[0m\n\u001b[0;32m    243\u001b[0m                 \u001b[0mcreate_graph\u001b[0m\u001b[1;33m=\u001b[0m\u001b[0mcreate_graph\u001b[0m\u001b[1;33m,\u001b[0m\u001b[1;33m\u001b[0m\u001b[1;33m\u001b[0m\u001b[0m\n\u001b[0;32m    244\u001b[0m                 inputs=inputs)\n\u001b[1;32m--> 245\u001b[1;33m         \u001b[0mtorch\u001b[0m\u001b[1;33m.\u001b[0m\u001b[0mautograd\u001b[0m\u001b[1;33m.\u001b[0m\u001b[0mbackward\u001b[0m\u001b[1;33m(\u001b[0m\u001b[0mself\u001b[0m\u001b[1;33m,\u001b[0m \u001b[0mgradient\u001b[0m\u001b[1;33m,\u001b[0m \u001b[0mretain_graph\u001b[0m\u001b[1;33m,\u001b[0m \u001b[0mcreate_graph\u001b[0m\u001b[1;33m,\u001b[0m \u001b[0minputs\u001b[0m\u001b[1;33m=\u001b[0m\u001b[0minputs\u001b[0m\u001b[1;33m)\u001b[0m\u001b[1;33m\u001b[0m\u001b[1;33m\u001b[0m\u001b[0m\n\u001b[0m\u001b[0;32m    246\u001b[0m \u001b[1;33m\u001b[0m\u001b[0m\n\u001b[0;32m    247\u001b[0m     \u001b[1;32mdef\u001b[0m \u001b[0mregister_hook\u001b[0m\u001b[1;33m(\u001b[0m\u001b[0mself\u001b[0m\u001b[1;33m,\u001b[0m \u001b[0mhook\u001b[0m\u001b[1;33m)\u001b[0m\u001b[1;33m:\u001b[0m\u001b[1;33m\u001b[0m\u001b[1;33m\u001b[0m\u001b[0m\n",
      "\u001b[1;32m~\\Anaconda3\\lib\\site-packages\\torch\\autograd\\__init__.py\u001b[0m in \u001b[0;36mbackward\u001b[1;34m(tensors, grad_tensors, retain_graph, create_graph, grad_variables, inputs)\u001b[0m\n\u001b[0;32m    145\u001b[0m     Variable._execution_engine.run_backward(\n\u001b[0;32m    146\u001b[0m         \u001b[0mtensors\u001b[0m\u001b[1;33m,\u001b[0m \u001b[0mgrad_tensors_\u001b[0m\u001b[1;33m,\u001b[0m \u001b[0mretain_graph\u001b[0m\u001b[1;33m,\u001b[0m \u001b[0mcreate_graph\u001b[0m\u001b[1;33m,\u001b[0m \u001b[0minputs\u001b[0m\u001b[1;33m,\u001b[0m\u001b[1;33m\u001b[0m\u001b[1;33m\u001b[0m\u001b[0m\n\u001b[1;32m--> 147\u001b[1;33m         allow_unreachable=True, accumulate_grad=True)  # allow_unreachable flag\n\u001b[0m\u001b[0;32m    148\u001b[0m \u001b[1;33m\u001b[0m\u001b[0m\n\u001b[0;32m    149\u001b[0m \u001b[1;33m\u001b[0m\u001b[0m\n",
      "\u001b[1;31mKeyboardInterrupt\u001b[0m: "
     ]
    }
   ],
   "source": [
    "model.train()\n",
    "\n",
    "for e in range(10):\n",
    "    \n",
    "    loss_e=0.0\n",
    "    for i in range(s1.shape[1]):\n",
    "\n",
    "            optimizer.zero_grad()\n",
    "            loss = Criteria(s1,s2,Yabs,u,v,i)\n",
    "            loss.backward()\n",
    "            # fill zeros into the first row of grad\n",
    "            u.grad.data[:i].fill_(0)\n",
    "            u.grad.data[i+1:].fill_(0)\n",
    "            \n",
    "            v.grad.data[:i].fill_(0)\n",
    "            v.grad.data[i+1:].fill_(0)\n",
    "            s1.grad.data[:,:i].fill_(0)\n",
    "            s1.grad.data[:,i+1:].fill_(0)\n",
    "            s2.grad.data[:,:i].fill_(0)\n",
    "            s2.grad.data[:,i+1:].fill_(0)\n",
    "\n",
    "\n",
    "\n",
    "            optimizer.step()\n",
    "            loss_e+=loss\n",
    "            \n",
    "    print('Epoch {} , Loss = {:.2f}'.format(e,loss_e/s1.shape[1]))"
   ]
  },
  {
   "cell_type": "markdown",
   "metadata": {},
   "source": [
    "## Check that all values are positive:"
   ]
  },
  {
   "cell_type": "code",
   "execution_count": 23,
   "metadata": {},
   "outputs": [
    {
     "name": "stdout",
     "output_type": "stream",
     "text": [
      "Min of s1 -0.2535\n",
      "Min of s2 -0.1489\n",
      "Min of U 0.0005\n",
      "Min of V 0.0068\n"
     ]
    }
   ],
   "source": [
    "print('Min of s1 {:.4f}'.format(s1.min()))\n",
    "print('Min of s2 {:.4f}'.format(s2.min()))\n",
    "print('Min of U {:.4f}'.format(u.min()))\n",
    "print('Min of V {:.4f}'.format(v.min()))"
   ]
  },
  {
   "cell_type": "code",
   "execution_count": 26,
   "metadata": {},
   "outputs": [
    {
     "data": {
      "text/plain": [
       "<matplotlib.axes._subplots.AxesSubplot at 0x1c9ac3f8c18>"
      ]
     },
     "execution_count": 26,
     "metadata": {},
     "output_type": "execute_result"
    },
    {
     "data": {
      "image/png": "[encoded data removed]",
      "text/plain": [
       "<Figure size 1440x504 with 1 Axes>"
      ]
     },
     "metadata": {
      "needs_background": "light"
     },
     "output_type": "display_data"
    }
   ],
   "source": [
    "plt.figure(figsize=(20,7))\n",
    "sns.distplot(Yabs.detach().numpy(),hist=False)\n",
    "sns.distplot((u*s1+v*s2).detach().numpy(), hist = False)"
   ]
  },
  {
   "cell_type": "code",
   "execution_count": 25,
   "metadata": {},
   "outputs": [
    {
     "data": {
      "text/plain": [
       "tensor(5.4426, dtype=torch.float64, grad_fn=<CopyBackwards>)"
      ]
     },
     "execution_count": 25,
     "metadata": {},
     "output_type": "execute_result"
    }
   ],
   "source": [
    "torch.norm(u*s1 + v*s2 - Yabs,'fro',None)"
   ]
  }
 ],
 "metadata": {
  "kernelspec": {
   "display_name": "Python 3",
   "language": "python",
   "name": "python3"
  },
  "language_info": {
   "codemirror_mode": {
    "name": "ipython",
    "version": 3
   },
   "file_extension": ".py",
   "mimetype": "text/x-python",
   "name": "python",
   "nbconvert_exporter": "python",
   "pygments_lexer": "ipython3",
   "version": "3.7.1"
  }
 },
 "nbformat": 4,
 "nbformat_minor": 4
}
