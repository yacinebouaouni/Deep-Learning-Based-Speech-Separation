{
 "cells": [
  {
   "cell_type": "code",
   "execution_count": 1,
   "metadata": {},
   "outputs": [],
   "source": [
    "import torch\n",
    "import torch.optim as optim\n",
    "from torch.autograd import Variable\n",
    "import torch.nn as nn\n",
    "import torch.nn.functional as F\n",
    "import torch.nn.init as I\n"
   ]
  },
  {
   "cell_type": "code",
   "execution_count": 2,
   "metadata": {},
   "outputs": [],
   "source": [
    "class Net(nn.Module):\n",
    "\n",
    "    def __init__(self,d):\n",
    "        super(Net, self).__init__()\n",
    "        \n",
    "        self.fc1 = nn.Linear(d, 100)  # d is dimension of the input.\n",
    "        self.fc2 = nn.Linear(100, 50)\n",
    "        self.fc3 = nn.Linear(50, 200)\n",
    "        self.fc4 = nn.Linear(200,2)\n",
    "        \n",
    "    def forward(self, x):\n",
    "        \n",
    "        x = F.sigmoid(self.fc1(x))\n",
    "        x = F.sigmoid(self.fc2(x))\n",
    "        x = F.sigmoid(self.fc3(x))\n",
    "        fx = F.sigmoid(self.fc4(x))\n",
    "\n",
    "        return fx\n",
    "    \n"
   ]
  },
  {
   "cell_type": "code",
   "execution_count": 3,
   "metadata": {},
   "outputs": [
    {
     "name": "stdout",
     "output_type": "stream",
     "text": [
      "Net(\n",
      "  (fc1): Linear(in_features=1026, out_features=100, bias=True)\n",
      "  (fc2): Linear(in_features=100, out_features=50, bias=True)\n",
      "  (fc3): Linear(in_features=50, out_features=200, bias=True)\n",
      "  (fc4): Linear(in_features=200, out_features=2, bias=True)\n",
      ")\n"
     ]
    }
   ],
   "source": [
    "model = Net(513*2)\n",
    "print(model)"
   ]
  },
  {
   "cell_type": "code",
   "execution_count": 25,
   "metadata": {},
   "outputs": [],
   "source": [
    "import numpy as np\n",
    "\n",
    "x1=torch.tensor(np.zeros((20,10)))\n",
    "x1.requires_grad = True\n",
    "d = {\"model\":model.parameters(),\"x\":x1}\n",
    "d =list(model.parameters())+[x1]\n",
    "optimizer = optim.LBFGS(d,lr=1, max_iter=20, tolerance_grad=1e-07)"
   ]
  },
  {
   "cell_type": "code",
   "execution_count": 26,
   "metadata": {},
   "outputs": [],
   "source": [
    "optimizer = optim.LBFGS(d,lr=1, max_iter=20, tolerance_grad=1e-07)"
   ]
  },
  {
   "cell_type": "code",
   "execution_count": 6,
   "metadata": {},
   "outputs": [],
   "source": [
    "params=model.parameters()"
   ]
  },
  {
   "cell_type": "code",
   "execution_count": 7,
   "metadata": {},
   "outputs": [
    {
     "data": {
      "text/plain": [
       "<generator object Module.parameters at 0x000001AB1F05A930>"
      ]
     },
     "execution_count": 7,
     "metadata": {},
     "output_type": "execute_result"
    }
   ],
   "source": [
    "params"
   ]
  },
  {
   "cell_type": "code",
   "execution_count": 14,
   "metadata": {},
   "outputs": [
    {
     "data": {
      "text/plain": [
       "Parameter containing:\n",
       "tensor([ 0.0192,  0.0643, -0.0791, -0.0627, -0.0885,  0.0907,  0.0839,  0.0750,\n",
       "         0.1360, -0.0951, -0.0777,  0.0729, -0.1206,  0.0731,  0.0950, -0.0304,\n",
       "        -0.0576, -0.0112, -0.1047, -0.1136, -0.0552, -0.1193,  0.0799, -0.0393,\n",
       "         0.1300, -0.0568,  0.0722,  0.0969,  0.0316,  0.1129, -0.0865, -0.0902,\n",
       "         0.1311,  0.0808,  0.0676, -0.0866,  0.0643,  0.0702,  0.1333,  0.0690,\n",
       "         0.1065, -0.0502,  0.0398,  0.0046, -0.0005, -0.1209, -0.0263,  0.0315,\n",
       "         0.0863, -0.1259, -0.1313, -0.0520,  0.0641,  0.1053,  0.0531,  0.0655,\n",
       "        -0.1229, -0.0244, -0.1395,  0.1035,  0.1233,  0.1185,  0.1196, -0.0538,\n",
       "         0.1136,  0.0667,  0.1288, -0.0331,  0.0786,  0.1242,  0.1197,  0.0395,\n",
       "         0.0053, -0.0672, -0.1372, -0.0684,  0.1163,  0.0872, -0.1213,  0.0887,\n",
       "        -0.0341, -0.0095,  0.1352, -0.0331, -0.0317,  0.0581,  0.1376,  0.0859,\n",
       "        -0.1254, -0.0107,  0.1184,  0.0280,  0.0340,  0.0435, -0.0606,  0.1389,\n",
       "         0.0356,  0.1209,  0.1091, -0.1111,  0.0063, -0.1406, -0.1013,  0.0083,\n",
       "         0.0669, -0.0260, -0.0680,  0.0275,  0.0130,  0.0567, -0.0931, -0.0753,\n",
       "        -0.0978,  0.0430,  0.1381, -0.0263, -0.0774, -0.0364, -0.1041, -0.0925,\n",
       "         0.0266, -0.1314, -0.1115, -0.0951, -0.0280, -0.0127,  0.0532,  0.1209,\n",
       "         0.0255, -0.0012, -0.0029, -0.0796, -0.0192, -0.0640, -0.0565,  0.0999,\n",
       "        -0.0822, -0.0217,  0.0656, -0.1177,  0.0626,  0.1213,  0.1065,  0.0387,\n",
       "         0.0207, -0.0116, -0.0213,  0.0535, -0.0715, -0.0960,  0.0622,  0.0102,\n",
       "        -0.0216, -0.0289, -0.0793, -0.0106, -0.1327,  0.0770, -0.0158, -0.0479,\n",
       "         0.1334, -0.0405,  0.0846,  0.0998,  0.0003,  0.1064,  0.0701,  0.1105,\n",
       "         0.0526,  0.1202, -0.0320,  0.0388, -0.1410, -0.0407,  0.0254, -0.0580,\n",
       "        -0.0285, -0.1163,  0.0307, -0.0990,  0.0986,  0.0369,  0.0097, -0.0226,\n",
       "        -0.0523, -0.1045,  0.0397, -0.0072,  0.0023, -0.0812, -0.0298,  0.0365,\n",
       "         0.0303,  0.0426, -0.0464, -0.0165,  0.0611, -0.0561,  0.0838,  0.0965],\n",
       "       requires_grad=True)"
      ]
     },
     "execution_count": 14,
     "metadata": {},
     "output_type": "execute_result"
    }
   ],
   "source": [
    "next(params)"
   ]
  },
  {
   "cell_type": "code",
   "execution_count": null,
   "metadata": {},
   "outputs": [],
   "source": []
  }
 ],
 "metadata": {
  "kernelspec": {
   "display_name": "Python 3",
   "language": "python",
   "name": "python3"
  },
  "language_info": {
   "codemirror_mode": {
    "name": "ipython",
    "version": 3
   },
   "file_extension": ".py",
   "mimetype": "text/x-python",
   "name": "python",
   "nbconvert_exporter": "python",
   "pygments_lexer": "ipython3",
   "version": "3.7.1"
  }
 },
 "nbformat": 4,
 "nbformat_minor": 4
}
